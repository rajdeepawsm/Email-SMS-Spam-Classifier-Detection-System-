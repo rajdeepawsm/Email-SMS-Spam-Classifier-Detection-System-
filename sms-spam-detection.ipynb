{
 "cells": [
  {
   "cell_type": "code",
   "execution_count": 1,
   "id": "7eb983a9",
   "metadata": {
    "_cell_guid": "b1076dfc-b9ad-4769-8c92-a6c4dae69d19",
    "_uuid": "8f2839f25d086af736a60e9eeb907d3b93b6e0e5",
    "execution": {
     "iopub.execute_input": "2022-07-20T08:44:53.832135Z",
     "iopub.status.busy": "2022-07-20T08:44:53.830794Z",
     "iopub.status.idle": "2022-07-20T08:44:53.843480Z",
     "shell.execute_reply": "2022-07-20T08:44:53.842677Z"
    },
    "papermill": {
     "duration": 0.045134,
     "end_time": "2022-07-20T08:44:53.845837",
     "exception": false,
     "start_time": "2022-07-20T08:44:53.800703",
     "status": "completed"
    },
    "tags": []
   },
   "outputs": [],
   "source": [
    "import numpy as np\n",
    "import pandas as pd"
   ]
  },
  {
   "cell_type": "code",
   "execution_count": 2,
   "id": "2034674f",
   "metadata": {
    "execution": {
     "iopub.execute_input": "2022-07-20T08:44:53.895997Z",
     "iopub.status.busy": "2022-07-20T08:44:53.895580Z",
     "iopub.status.idle": "2022-07-20T08:44:53.931250Z",
     "shell.execute_reply": "2022-07-20T08:44:53.930357Z"
    },
    "papermill": {
     "duration": 0.063872,
     "end_time": "2022-07-20T08:44:53.933679",
     "exception": false,
     "start_time": "2022-07-20T08:44:53.869807",
     "status": "completed"
    },
    "tags": []
   },
   "outputs": [],
   "source": [
    "df = pd.read_csv(\"../input/spamdataset/spam.csv\", encoding='latin-1')"
   ]
  },
  {
   "cell_type": "code",
   "execution_count": 3,
   "id": "3b2dc192",
   "metadata": {
    "execution": {
     "iopub.execute_input": "2022-07-20T08:44:53.985742Z",
     "iopub.status.busy": "2022-07-20T08:44:53.984997Z",
     "iopub.status.idle": "2022-07-20T08:44:54.007669Z",
     "shell.execute_reply": "2022-07-20T08:44:54.006888Z"
    },
    "papermill": {
     "duration": 0.051766,
     "end_time": "2022-07-20T08:44:54.010533",
     "exception": false,
     "start_time": "2022-07-20T08:44:53.958767",
     "status": "completed"
    },
    "tags": []
   },
   "outputs": [
    {
     "data": {
      "text/html": [
       "<div>\n",
       "<style scoped>\n",
       "    .dataframe tbody tr th:only-of-type {\n",
       "        vertical-align: middle;\n",
       "    }\n",
       "\n",
       "    .dataframe tbody tr th {\n",
       "        vertical-align: top;\n",
       "    }\n",
       "\n",
       "    .dataframe thead th {\n",
       "        text-align: right;\n",
       "    }\n",
       "</style>\n",
       "<table border=\"1\" class=\"dataframe\">\n",
       "  <thead>\n",
       "    <tr style=\"text-align: right;\">\n",
       "      <th></th>\n",
       "      <th>v1</th>\n",
       "      <th>v2</th>\n",
       "      <th>Unnamed: 2</th>\n",
       "      <th>Unnamed: 3</th>\n",
       "      <th>Unnamed: 4</th>\n",
       "    </tr>\n",
       "  </thead>\n",
       "  <tbody>\n",
       "    <tr>\n",
       "      <th>69</th>\n",
       "      <td>ham</td>\n",
       "      <td>I plane to give on this month end.</td>\n",
       "      <td>NaN</td>\n",
       "      <td>NaN</td>\n",
       "      <td>NaN</td>\n",
       "    </tr>\n",
       "    <tr>\n",
       "      <th>3413</th>\n",
       "      <td>ham</td>\n",
       "      <td>No pic. Please re-send.</td>\n",
       "      <td>NaN</td>\n",
       "      <td>NaN</td>\n",
       "      <td>NaN</td>\n",
       "    </tr>\n",
       "    <tr>\n",
       "      <th>1094</th>\n",
       "      <td>ham</td>\n",
       "      <td>Now only i reached home. . . I am very tired n...</td>\n",
       "      <td>NaN</td>\n",
       "      <td>NaN</td>\n",
       "      <td>NaN</td>\n",
       "    </tr>\n",
       "    <tr>\n",
       "      <th>4758</th>\n",
       "      <td>spam</td>\n",
       "      <td>Thanks 4 your continued support Your question ...</td>\n",
       "      <td>NaN</td>\n",
       "      <td>NaN</td>\n",
       "      <td>NaN</td>\n",
       "    </tr>\n",
       "    <tr>\n",
       "      <th>2054</th>\n",
       "      <td>ham</td>\n",
       "      <td>Y so late but i need to go n get da laptop...</td>\n",
       "      <td>NaN</td>\n",
       "      <td>NaN</td>\n",
       "      <td>NaN</td>\n",
       "    </tr>\n",
       "  </tbody>\n",
       "</table>\n",
       "</div>"
      ],
      "text/plain": [
       "        v1                                                 v2 Unnamed: 2  \\\n",
       "69     ham                 I plane to give on this month end.        NaN   \n",
       "3413   ham                            No pic. Please re-send.        NaN   \n",
       "1094   ham  Now only i reached home. . . I am very tired n...        NaN   \n",
       "4758  spam  Thanks 4 your continued support Your question ...        NaN   \n",
       "2054   ham      Y so late but i need to go n get da laptop...        NaN   \n",
       "\n",
       "     Unnamed: 3 Unnamed: 4  \n",
       "69          NaN        NaN  \n",
       "3413        NaN        NaN  \n",
       "1094        NaN        NaN  \n",
       "4758        NaN        NaN  \n",
       "2054        NaN        NaN  "
      ]
     },
     "execution_count": 3,
     "metadata": {},
     "output_type": "execute_result"
    }
   ],
   "source": [
    "df.sample(5)"
   ]
  },
  {
   "cell_type": "code",
   "execution_count": 4,
   "id": "f525290e",
   "metadata": {
    "execution": {
     "iopub.execute_input": "2022-07-20T08:44:54.061918Z",
     "iopub.status.busy": "2022-07-20T08:44:54.061330Z",
     "iopub.status.idle": "2022-07-20T08:44:54.066581Z",
     "shell.execute_reply": "2022-07-20T08:44:54.065848Z"
    },
    "papermill": {
     "duration": 0.033311,
     "end_time": "2022-07-20T08:44:54.068756",
     "exception": false,
     "start_time": "2022-07-20T08:44:54.035445",
     "status": "completed"
    },
    "tags": []
   },
   "outputs": [
    {
     "data": {
      "text/plain": [
       "(5572, 5)"
      ]
     },
     "execution_count": 4,
     "metadata": {},
     "output_type": "execute_result"
    }
   ],
   "source": [
    "df.shape"
   ]
  },
  {
   "cell_type": "markdown",
   "id": "be99a219",
   "metadata": {
    "papermill": {
     "duration": 0.023904,
     "end_time": "2022-07-20T08:44:54.117389",
     "exception": false,
     "start_time": "2022-07-20T08:44:54.093485",
     "status": "completed"
    },
    "tags": []
   },
   "source": [
    "# **Data Cleaning**"
   ]
  },
  {
   "cell_type": "code",
   "execution_count": 5,
   "id": "2792666b",
   "metadata": {
    "execution": {
     "iopub.execute_input": "2022-07-20T08:44:54.168112Z",
     "iopub.status.busy": "2022-07-20T08:44:54.167305Z",
     "iopub.status.idle": "2022-07-20T08:44:54.189723Z",
     "shell.execute_reply": "2022-07-20T08:44:54.188571Z"
    },
    "papermill": {
     "duration": 0.050716,
     "end_time": "2022-07-20T08:44:54.192433",
     "exception": false,
     "start_time": "2022-07-20T08:44:54.141717",
     "status": "completed"
    },
    "tags": []
   },
   "outputs": [
    {
     "name": "stdout",
     "output_type": "stream",
     "text": [
      "<class 'pandas.core.frame.DataFrame'>\n",
      "RangeIndex: 5572 entries, 0 to 5571\n",
      "Data columns (total 5 columns):\n",
      " #   Column      Non-Null Count  Dtype \n",
      "---  ------      --------------  ----- \n",
      " 0   v1          5572 non-null   object\n",
      " 1   v2          5572 non-null   object\n",
      " 2   Unnamed: 2  50 non-null     object\n",
      " 3   Unnamed: 3  12 non-null     object\n",
      " 4   Unnamed: 4  6 non-null      object\n",
      "dtypes: object(5)\n",
      "memory usage: 217.8+ KB\n"
     ]
    }
   ],
   "source": [
    "df.info()"
   ]
  },
  {
   "cell_type": "code",
   "execution_count": 6,
   "id": "17662682",
   "metadata": {
    "execution": {
     "iopub.execute_input": "2022-07-20T08:44:54.243183Z",
     "iopub.status.busy": "2022-07-20T08:44:54.242566Z",
     "iopub.status.idle": "2022-07-20T08:44:54.249160Z",
     "shell.execute_reply": "2022-07-20T08:44:54.248123Z"
    },
    "papermill": {
     "duration": 0.034628,
     "end_time": "2022-07-20T08:44:54.251462",
     "exception": false,
     "start_time": "2022-07-20T08:44:54.216834",
     "status": "completed"
    },
    "tags": []
   },
   "outputs": [],
   "source": [
    "df.drop(columns = ['Unnamed: 2','Unnamed: 3','Unnamed: 4'],inplace = True)\n",
    "df.rename(columns = {'v1':'target','v2':'text'},inplace = True)"
   ]
  },
  {
   "cell_type": "code",
   "execution_count": 7,
   "id": "36bd9bee",
   "metadata": {
    "execution": {
     "iopub.execute_input": "2022-07-20T08:44:54.302486Z",
     "iopub.status.busy": "2022-07-20T08:44:54.301869Z",
     "iopub.status.idle": "2022-07-20T08:44:54.312395Z",
     "shell.execute_reply": "2022-07-20T08:44:54.311254Z"
    },
    "papermill": {
     "duration": 0.038821,
     "end_time": "2022-07-20T08:44:54.314805",
     "exception": false,
     "start_time": "2022-07-20T08:44:54.275984",
     "status": "completed"
    },
    "tags": []
   },
   "outputs": [
    {
     "data": {
      "text/html": [
       "<div>\n",
       "<style scoped>\n",
       "    .dataframe tbody tr th:only-of-type {\n",
       "        vertical-align: middle;\n",
       "    }\n",
       "\n",
       "    .dataframe tbody tr th {\n",
       "        vertical-align: top;\n",
       "    }\n",
       "\n",
       "    .dataframe thead th {\n",
       "        text-align: right;\n",
       "    }\n",
       "</style>\n",
       "<table border=\"1\" class=\"dataframe\">\n",
       "  <thead>\n",
       "    <tr style=\"text-align: right;\">\n",
       "      <th></th>\n",
       "      <th>target</th>\n",
       "      <th>text</th>\n",
       "    </tr>\n",
       "  </thead>\n",
       "  <tbody>\n",
       "    <tr>\n",
       "      <th>4637</th>\n",
       "      <td>ham</td>\n",
       "      <td>Captain vijaykanth is doing comedy in captain ...</td>\n",
       "    </tr>\n",
       "    <tr>\n",
       "      <th>4029</th>\n",
       "      <td>ham</td>\n",
       "      <td>Cool, I'll text you in a few</td>\n",
       "    </tr>\n",
       "    <tr>\n",
       "      <th>2401</th>\n",
       "      <td>spam</td>\n",
       "      <td>Babe: U want me dont u baby! Im nasty and have...</td>\n",
       "    </tr>\n",
       "    <tr>\n",
       "      <th>3799</th>\n",
       "      <td>spam</td>\n",
       "      <td>We tried to contact you re your reply to our o...</td>\n",
       "    </tr>\n",
       "    <tr>\n",
       "      <th>3807</th>\n",
       "      <td>ham</td>\n",
       "      <td>Mm you ask him to come its enough :-)</td>\n",
       "    </tr>\n",
       "  </tbody>\n",
       "</table>\n",
       "</div>"
      ],
      "text/plain": [
       "     target                                               text\n",
       "4637    ham  Captain vijaykanth is doing comedy in captain ...\n",
       "4029    ham                       Cool, I'll text you in a few\n",
       "2401   spam  Babe: U want me dont u baby! Im nasty and have...\n",
       "3799   spam  We tried to contact you re your reply to our o...\n",
       "3807    ham              Mm you ask him to come its enough :-)"
      ]
     },
     "execution_count": 7,
     "metadata": {},
     "output_type": "execute_result"
    }
   ],
   "source": [
    "df.sample(5)"
   ]
  },
  {
   "cell_type": "code",
   "execution_count": 8,
   "id": "15718149",
   "metadata": {
    "execution": {
     "iopub.execute_input": "2022-07-20T08:44:54.365994Z",
     "iopub.status.busy": "2022-07-20T08:44:54.365551Z",
     "iopub.status.idle": "2022-07-20T08:44:55.330130Z",
     "shell.execute_reply": "2022-07-20T08:44:55.328701Z"
    },
    "papermill": {
     "duration": 0.993638,
     "end_time": "2022-07-20T08:44:55.333026",
     "exception": false,
     "start_time": "2022-07-20T08:44:54.339388",
     "status": "completed"
    },
    "tags": []
   },
   "outputs": [],
   "source": [
    "from sklearn.preprocessing import LabelEncoder\n",
    "encoder = LabelEncoder()"
   ]
  },
  {
   "cell_type": "code",
   "execution_count": 9,
   "id": "87cd4c10",
   "metadata": {
    "execution": {
     "iopub.execute_input": "2022-07-20T08:44:55.384595Z",
     "iopub.status.busy": "2022-07-20T08:44:55.383671Z",
     "iopub.status.idle": "2022-07-20T08:44:55.398052Z",
     "shell.execute_reply": "2022-07-20T08:44:55.396717Z"
    },
    "papermill": {
     "duration": 0.042891,
     "end_time": "2022-07-20T08:44:55.400524",
     "exception": false,
     "start_time": "2022-07-20T08:44:55.357633",
     "status": "completed"
    },
    "tags": []
   },
   "outputs": [
    {
     "data": {
      "text/html": [
       "<div>\n",
       "<style scoped>\n",
       "    .dataframe tbody tr th:only-of-type {\n",
       "        vertical-align: middle;\n",
       "    }\n",
       "\n",
       "    .dataframe tbody tr th {\n",
       "        vertical-align: top;\n",
       "    }\n",
       "\n",
       "    .dataframe thead th {\n",
       "        text-align: right;\n",
       "    }\n",
       "</style>\n",
       "<table border=\"1\" class=\"dataframe\">\n",
       "  <thead>\n",
       "    <tr style=\"text-align: right;\">\n",
       "      <th></th>\n",
       "      <th>target</th>\n",
       "      <th>text</th>\n",
       "    </tr>\n",
       "  </thead>\n",
       "  <tbody>\n",
       "    <tr>\n",
       "      <th>0</th>\n",
       "      <td>0</td>\n",
       "      <td>Go until jurong point, crazy.. Available only ...</td>\n",
       "    </tr>\n",
       "    <tr>\n",
       "      <th>1</th>\n",
       "      <td>0</td>\n",
       "      <td>Ok lar... Joking wif u oni...</td>\n",
       "    </tr>\n",
       "    <tr>\n",
       "      <th>2</th>\n",
       "      <td>1</td>\n",
       "      <td>Free entry in 2 a wkly comp to win FA Cup fina...</td>\n",
       "    </tr>\n",
       "    <tr>\n",
       "      <th>3</th>\n",
       "      <td>0</td>\n",
       "      <td>U dun say so early hor... U c already then say...</td>\n",
       "    </tr>\n",
       "    <tr>\n",
       "      <th>4</th>\n",
       "      <td>0</td>\n",
       "      <td>Nah I don't think he goes to usf, he lives aro...</td>\n",
       "    </tr>\n",
       "  </tbody>\n",
       "</table>\n",
       "</div>"
      ],
      "text/plain": [
       "   target                                               text\n",
       "0       0  Go until jurong point, crazy.. Available only ...\n",
       "1       0                      Ok lar... Joking wif u oni...\n",
       "2       1  Free entry in 2 a wkly comp to win FA Cup fina...\n",
       "3       0  U dun say so early hor... U c already then say...\n",
       "4       0  Nah I don't think he goes to usf, he lives aro..."
      ]
     },
     "execution_count": 9,
     "metadata": {},
     "output_type": "execute_result"
    }
   ],
   "source": [
    "df['target'] = encoder.fit_transform(df['target'])\n",
    "df.head()"
   ]
  },
  {
   "cell_type": "code",
   "execution_count": 10,
   "id": "2dfb3124",
   "metadata": {
    "execution": {
     "iopub.execute_input": "2022-07-20T08:44:55.452836Z",
     "iopub.status.busy": "2022-07-20T08:44:55.452192Z",
     "iopub.status.idle": "2022-07-20T08:44:55.461471Z",
     "shell.execute_reply": "2022-07-20T08:44:55.460717Z"
    },
    "papermill": {
     "duration": 0.038121,
     "end_time": "2022-07-20T08:44:55.463504",
     "exception": false,
     "start_time": "2022-07-20T08:44:55.425383",
     "status": "completed"
    },
    "tags": []
   },
   "outputs": [
    {
     "data": {
      "text/plain": [
       "target    0\n",
       "text      0\n",
       "dtype: int64"
      ]
     },
     "execution_count": 10,
     "metadata": {},
     "output_type": "execute_result"
    }
   ],
   "source": [
    "df.isnull().sum()"
   ]
  },
  {
   "cell_type": "code",
   "execution_count": 11,
   "id": "fb3a75dd",
   "metadata": {
    "execution": {
     "iopub.execute_input": "2022-07-20T08:44:55.516169Z",
     "iopub.status.busy": "2022-07-20T08:44:55.515455Z",
     "iopub.status.idle": "2022-07-20T08:44:55.525239Z",
     "shell.execute_reply": "2022-07-20T08:44:55.524484Z"
    },
    "papermill": {
     "duration": 0.038486,
     "end_time": "2022-07-20T08:44:55.527238",
     "exception": false,
     "start_time": "2022-07-20T08:44:55.488752",
     "status": "completed"
    },
    "tags": []
   },
   "outputs": [
    {
     "data": {
      "text/plain": [
       "403"
      ]
     },
     "execution_count": 11,
     "metadata": {},
     "output_type": "execute_result"
    }
   ],
   "source": [
    "df.duplicated().sum()"
   ]
  },
  {
   "cell_type": "code",
   "execution_count": 12,
   "id": "2e0d9de5",
   "metadata": {
    "execution": {
     "iopub.execute_input": "2022-07-20T08:44:55.580208Z",
     "iopub.status.busy": "2022-07-20T08:44:55.579495Z",
     "iopub.status.idle": "2022-07-20T08:44:55.589057Z",
     "shell.execute_reply": "2022-07-20T08:44:55.588250Z"
    },
    "papermill": {
     "duration": 0.038105,
     "end_time": "2022-07-20T08:44:55.591350",
     "exception": false,
     "start_time": "2022-07-20T08:44:55.553245",
     "status": "completed"
    },
    "tags": []
   },
   "outputs": [],
   "source": [
    "df = df.drop_duplicates(keep = 'first')"
   ]
  },
  {
   "cell_type": "code",
   "execution_count": 13,
   "id": "530c9315",
   "metadata": {
    "execution": {
     "iopub.execute_input": "2022-07-20T08:44:55.644327Z",
     "iopub.status.busy": "2022-07-20T08:44:55.643615Z",
     "iopub.status.idle": "2022-07-20T08:44:55.649263Z",
     "shell.execute_reply": "2022-07-20T08:44:55.648502Z"
    },
    "papermill": {
     "duration": 0.034335,
     "end_time": "2022-07-20T08:44:55.651246",
     "exception": false,
     "start_time": "2022-07-20T08:44:55.616911",
     "status": "completed"
    },
    "tags": []
   },
   "outputs": [
    {
     "data": {
      "text/plain": [
       "(5169, 2)"
      ]
     },
     "execution_count": 13,
     "metadata": {},
     "output_type": "execute_result"
    }
   ],
   "source": [
    "df.shape"
   ]
  },
  {
   "cell_type": "markdown",
   "id": "e53b96d3",
   "metadata": {
    "papermill": {
     "duration": 0.024675,
     "end_time": "2022-07-20T08:44:55.701032",
     "exception": false,
     "start_time": "2022-07-20T08:44:55.676357",
     "status": "completed"
    },
    "tags": []
   },
   "source": [
    "# Exploratory Data Analysis"
   ]
  },
  {
   "cell_type": "code",
   "execution_count": 14,
   "id": "310a57ff",
   "metadata": {
    "execution": {
     "iopub.execute_input": "2022-07-20T08:44:55.754169Z",
     "iopub.status.busy": "2022-07-20T08:44:55.753483Z",
     "iopub.status.idle": "2022-07-20T08:44:55.762663Z",
     "shell.execute_reply": "2022-07-20T08:44:55.761704Z"
    },
    "papermill": {
     "duration": 0.038297,
     "end_time": "2022-07-20T08:44:55.764731",
     "exception": false,
     "start_time": "2022-07-20T08:44:55.726434",
     "status": "completed"
    },
    "tags": []
   },
   "outputs": [
    {
     "data": {
      "text/html": [
       "<div>\n",
       "<style scoped>\n",
       "    .dataframe tbody tr th:only-of-type {\n",
       "        vertical-align: middle;\n",
       "    }\n",
       "\n",
       "    .dataframe tbody tr th {\n",
       "        vertical-align: top;\n",
       "    }\n",
       "\n",
       "    .dataframe thead th {\n",
       "        text-align: right;\n",
       "    }\n",
       "</style>\n",
       "<table border=\"1\" class=\"dataframe\">\n",
       "  <thead>\n",
       "    <tr style=\"text-align: right;\">\n",
       "      <th></th>\n",
       "      <th>target</th>\n",
       "      <th>text</th>\n",
       "    </tr>\n",
       "  </thead>\n",
       "  <tbody>\n",
       "    <tr>\n",
       "      <th>0</th>\n",
       "      <td>0</td>\n",
       "      <td>Go until jurong point, crazy.. Available only ...</td>\n",
       "    </tr>\n",
       "    <tr>\n",
       "      <th>1</th>\n",
       "      <td>0</td>\n",
       "      <td>Ok lar... Joking wif u oni...</td>\n",
       "    </tr>\n",
       "    <tr>\n",
       "      <th>2</th>\n",
       "      <td>1</td>\n",
       "      <td>Free entry in 2 a wkly comp to win FA Cup fina...</td>\n",
       "    </tr>\n",
       "    <tr>\n",
       "      <th>3</th>\n",
       "      <td>0</td>\n",
       "      <td>U dun say so early hor... U c already then say...</td>\n",
       "    </tr>\n",
       "    <tr>\n",
       "      <th>4</th>\n",
       "      <td>0</td>\n",
       "      <td>Nah I don't think he goes to usf, he lives aro...</td>\n",
       "    </tr>\n",
       "  </tbody>\n",
       "</table>\n",
       "</div>"
      ],
      "text/plain": [
       "   target                                               text\n",
       "0       0  Go until jurong point, crazy.. Available only ...\n",
       "1       0                      Ok lar... Joking wif u oni...\n",
       "2       1  Free entry in 2 a wkly comp to win FA Cup fina...\n",
       "3       0  U dun say so early hor... U c already then say...\n",
       "4       0  Nah I don't think he goes to usf, he lives aro..."
      ]
     },
     "execution_count": 14,
     "metadata": {},
     "output_type": "execute_result"
    }
   ],
   "source": [
    "df.head()"
   ]
  },
  {
   "cell_type": "code",
   "execution_count": 15,
   "id": "8111c3c8",
   "metadata": {
    "execution": {
     "iopub.execute_input": "2022-07-20T08:44:55.817766Z",
     "iopub.status.busy": "2022-07-20T08:44:55.817025Z",
     "iopub.status.idle": "2022-07-20T08:44:55.824369Z",
     "shell.execute_reply": "2022-07-20T08:44:55.823633Z"
    },
    "papermill": {
     "duration": 0.036234,
     "end_time": "2022-07-20T08:44:55.826363",
     "exception": false,
     "start_time": "2022-07-20T08:44:55.790129",
     "status": "completed"
    },
    "tags": []
   },
   "outputs": [
    {
     "data": {
      "text/plain": [
       "0    4516\n",
       "1     653\n",
       "Name: target, dtype: int64"
      ]
     },
     "execution_count": 15,
     "metadata": {},
     "output_type": "execute_result"
    }
   ],
   "source": [
    "df['target'].value_counts()"
   ]
  },
  {
   "cell_type": "code",
   "execution_count": 16,
   "id": "9718929b",
   "metadata": {
    "execution": {
     "iopub.execute_input": "2022-07-20T08:44:55.879490Z",
     "iopub.status.busy": "2022-07-20T08:44:55.878797Z",
     "iopub.status.idle": "2022-07-20T08:44:56.018827Z",
     "shell.execute_reply": "2022-07-20T08:44:56.017366Z"
    },
    "papermill": {
     "duration": 0.170436,
     "end_time": "2022-07-20T08:44:56.022409",
     "exception": false,
     "start_time": "2022-07-20T08:44:55.851973",
     "status": "completed"
    },
    "tags": []
   },
   "outputs": [
    {
     "data": {
      "image/png": "[encoded data removed]",
      "text/plain": [
       "<Figure size 432x288 with 1 Axes>"
      ]
     },
     "metadata": {},
     "output_type": "display_data"
    }
   ],
   "source": [
    "import matplotlib.pyplot as plt\n",
    "plt.pie(df['target'].value_counts(),labels = ['ham','spam'],autopct = '%0.2f')\n",
    "plt.show()"
   ]
  },
  {
   "cell_type": "markdown",
   "id": "6e45f68a",
   "metadata": {
    "papermill": {
     "duration": 0.036622,
     "end_time": "2022-07-20T08:44:56.106024",
     "exception": false,
     "start_time": "2022-07-20T08:44:56.069402",
     "status": "completed"
    },
    "tags": []
   },
   "source": [
    "This shows data is imbalanced"
   ]
  },
  {
   "cell_type": "code",
   "execution_count": 17,
   "id": "7876d9b5",
   "metadata": {
    "execution": {
     "iopub.execute_input": "2022-07-20T08:44:56.159575Z",
     "iopub.status.busy": "2022-07-20T08:44:56.158873Z",
     "iopub.status.idle": "2022-07-20T08:44:56.748046Z",
     "shell.execute_reply": "2022-07-20T08:44:56.746934Z"
    },
    "papermill": {
     "duration": 0.619166,
     "end_time": "2022-07-20T08:44:56.751083",
     "exception": false,
     "start_time": "2022-07-20T08:44:56.131917",
     "status": "completed"
    },
    "tags": []
   },
   "outputs": [],
   "source": [
    "#natural language toolkit\n",
    "import nltk"
   ]
  },
  {
   "cell_type": "code",
   "execution_count": 18,
   "id": "a05f74f0",
   "metadata": {
    "execution": {
     "iopub.execute_input": "2022-07-20T08:44:56.804901Z",
     "iopub.status.busy": "2022-07-20T08:44:56.804465Z",
     "iopub.status.idle": "2022-07-20T08:44:56.809389Z",
     "shell.execute_reply": "2022-07-20T08:44:56.808155Z"
    },
    "papermill": {
     "duration": 0.034842,
     "end_time": "2022-07-20T08:44:56.811881",
     "exception": false,
     "start_time": "2022-07-20T08:44:56.777039",
     "status": "completed"
    },
    "tags": []
   },
   "outputs": [],
   "source": [
    "#!pip install nltk\n",
    "#nltk.download('punkt')"
   ]
  },
  {
   "cell_type": "code",
   "execution_count": 19,
   "id": "e8b905c8",
   "metadata": {
    "execution": {
     "iopub.execute_input": "2022-07-20T08:44:56.865525Z",
     "iopub.status.busy": "2022-07-20T08:44:56.865153Z",
     "iopub.status.idle": "2022-07-20T08:44:56.874541Z",
     "shell.execute_reply": "2022-07-20T08:44:56.873408Z"
    },
    "papermill": {
     "duration": 0.038998,
     "end_time": "2022-07-20T08:44:56.876780",
     "exception": false,
     "start_time": "2022-07-20T08:44:56.837782",
     "status": "completed"
    },
    "tags": []
   },
   "outputs": [],
   "source": [
    "df['num_characters'] = df['text'].apply(len)"
   ]
  },
  {
   "cell_type": "code",
   "execution_count": 20,
   "id": "0c9918e0",
   "metadata": {
    "execution": {
     "iopub.execute_input": "2022-07-20T08:44:56.931041Z",
     "iopub.status.busy": "2022-07-20T08:44:56.930631Z",
     "iopub.status.idle": "2022-07-20T08:44:56.941625Z",
     "shell.execute_reply": "2022-07-20T08:44:56.940566Z"
    },
    "papermill": {
     "duration": 0.040685,
     "end_time": "2022-07-20T08:44:56.943973",
     "exception": false,
     "start_time": "2022-07-20T08:44:56.903288",
     "status": "completed"
    },
    "tags": []
   },
   "outputs": [
    {
     "data": {
      "text/html": [
       "<div>\n",
       "<style scoped>\n",
       "    .dataframe tbody tr th:only-of-type {\n",
       "        vertical-align: middle;\n",
       "    }\n",
       "\n",
       "    .dataframe tbody tr th {\n",
       "        vertical-align: top;\n",
       "    }\n",
       "\n",
       "    .dataframe thead th {\n",
       "        text-align: right;\n",
       "    }\n",
       "</style>\n",
       "<table border=\"1\" class=\"dataframe\">\n",
       "  <thead>\n",
       "    <tr style=\"text-align: right;\">\n",
       "      <th></th>\n",
       "      <th>target</th>\n",
       "      <th>text</th>\n",
       "      <th>num_characters</th>\n",
       "    </tr>\n",
       "  </thead>\n",
       "  <tbody>\n",
       "    <tr>\n",
       "      <th>0</th>\n",
       "      <td>0</td>\n",
       "      <td>Go until jurong point, crazy.. Available only ...</td>\n",
       "      <td>111</td>\n",
       "    </tr>\n",
       "    <tr>\n",
       "      <th>1</th>\n",
       "      <td>0</td>\n",
       "      <td>Ok lar... Joking wif u oni...</td>\n",
       "      <td>29</td>\n",
       "    </tr>\n",
       "    <tr>\n",
       "      <th>2</th>\n",
       "      <td>1</td>\n",
       "      <td>Free entry in 2 a wkly comp to win FA Cup fina...</td>\n",
       "      <td>155</td>\n",
       "    </tr>\n",
       "    <tr>\n",
       "      <th>3</th>\n",
       "      <td>0</td>\n",
       "      <td>U dun say so early hor... U c already then say...</td>\n",
       "      <td>49</td>\n",
       "    </tr>\n",
       "    <tr>\n",
       "      <th>4</th>\n",
       "      <td>0</td>\n",
       "      <td>Nah I don't think he goes to usf, he lives aro...</td>\n",
       "      <td>61</td>\n",
       "    </tr>\n",
       "  </tbody>\n",
       "</table>\n",
       "</div>"
      ],
      "text/plain": [
       "   target                                               text  num_characters\n",
       "0       0  Go until jurong point, crazy.. Available only ...             111\n",
       "1       0                      Ok lar... Joking wif u oni...              29\n",
       "2       1  Free entry in 2 a wkly comp to win FA Cup fina...             155\n",
       "3       0  U dun say so early hor... U c already then say...              49\n",
       "4       0  Nah I don't think he goes to usf, he lives aro...              61"
      ]
     },
     "execution_count": 20,
     "metadata": {},
     "output_type": "execute_result"
    }
   ],
   "source": [
    "df.head()"
   ]
  },
  {
   "cell_type": "code",
   "execution_count": 21,
   "id": "50d516aa",
   "metadata": {
    "execution": {
     "iopub.execute_input": "2022-07-20T08:44:56.997710Z",
     "iopub.status.busy": "2022-07-20T08:44:56.997307Z",
     "iopub.status.idle": "2022-07-20T08:44:58.616938Z",
     "shell.execute_reply": "2022-07-20T08:44:58.615819Z"
    },
    "papermill": {
     "duration": 1.649494,
     "end_time": "2022-07-20T08:44:58.619769",
     "exception": false,
     "start_time": "2022-07-20T08:44:56.970275",
     "status": "completed"
    },
    "tags": []
   },
   "outputs": [],
   "source": [
    "df['num_words'] = df['text'].apply(lambda x:len(nltk.word_tokenize(x)))"
   ]
  },
  {
   "cell_type": "code",
   "execution_count": 22,
   "id": "1cc645b0",
   "metadata": {
    "execution": {
     "iopub.execute_input": "2022-07-20T08:44:58.673582Z",
     "iopub.status.busy": "2022-07-20T08:44:58.673191Z",
     "iopub.status.idle": "2022-07-20T08:44:58.685542Z",
     "shell.execute_reply": "2022-07-20T08:44:58.684417Z"
    },
    "papermill": {
     "duration": 0.041963,
     "end_time": "2022-07-20T08:44:58.687889",
     "exception": false,
     "start_time": "2022-07-20T08:44:58.645926",
     "status": "completed"
    },
    "tags": []
   },
   "outputs": [
    {
     "data": {
      "text/html": [
       "<div>\n",
       "<style scoped>\n",
       "    .dataframe tbody tr th:only-of-type {\n",
       "        vertical-align: middle;\n",
       "    }\n",
       "\n",
       "    .dataframe tbody tr th {\n",
       "        vertical-align: top;\n",
       "    }\n",
       "\n",
       "    .dataframe thead th {\n",
       "        text-align: right;\n",
       "    }\n",
       "</style>\n",
       "<table border=\"1\" class=\"dataframe\">\n",
       "  <thead>\n",
       "    <tr style=\"text-align: right;\">\n",
       "      <th></th>\n",
       "      <th>target</th>\n",
       "      <th>text</th>\n",
       "      <th>num_characters</th>\n",
       "      <th>num_words</th>\n",
       "    </tr>\n",
       "  </thead>\n",
       "  <tbody>\n",
       "    <tr>\n",
       "      <th>0</th>\n",
       "      <td>0</td>\n",
       "      <td>Go until jurong point, crazy.. Available only ...</td>\n",
       "      <td>111</td>\n",
       "      <td>23</td>\n",
       "    </tr>\n",
       "    <tr>\n",
       "      <th>1</th>\n",
       "      <td>0</td>\n",
       "      <td>Ok lar... Joking wif u oni...</td>\n",
       "      <td>29</td>\n",
       "      <td>8</td>\n",
       "    </tr>\n",
       "    <tr>\n",
       "      <th>2</th>\n",
       "      <td>1</td>\n",
       "      <td>Free entry in 2 a wkly comp to win FA Cup fina...</td>\n",
       "      <td>155</td>\n",
       "      <td>37</td>\n",
       "    </tr>\n",
       "    <tr>\n",
       "      <th>3</th>\n",
       "      <td>0</td>\n",
       "      <td>U dun say so early hor... U c already then say...</td>\n",
       "      <td>49</td>\n",
       "      <td>13</td>\n",
       "    </tr>\n",
       "    <tr>\n",
       "      <th>4</th>\n",
       "      <td>0</td>\n",
       "      <td>Nah I don't think he goes to usf, he lives aro...</td>\n",
       "      <td>61</td>\n",
       "      <td>15</td>\n",
       "    </tr>\n",
       "  </tbody>\n",
       "</table>\n",
       "</div>"
      ],
      "text/plain": [
       "   target                                               text  num_characters  \\\n",
       "0       0  Go until jurong point, crazy.. Available only ...             111   \n",
       "1       0                      Ok lar... Joking wif u oni...              29   \n",
       "2       1  Free entry in 2 a wkly comp to win FA Cup fina...             155   \n",
       "3       0  U dun say so early hor... U c already then say...              49   \n",
       "4       0  Nah I don't think he goes to usf, he lives aro...              61   \n",
       "\n",
       "   num_words  \n",
       "0         23  \n",
       "1          8  \n",
       "2         37  \n",
       "3         13  \n",
       "4         15  "
      ]
     },
     "execution_count": 22,
     "metadata": {},
     "output_type": "execute_result"
    }
   ],
   "source": [
    "df.head()"
   ]
  },
  {
   "cell_type": "code",
   "execution_count": 23,
   "id": "a5cdafc3",
   "metadata": {
    "execution": {
     "iopub.execute_input": "2022-07-20T08:44:58.743400Z",
     "iopub.status.busy": "2022-07-20T08:44:58.742976Z",
     "iopub.status.idle": "2022-07-20T08:44:59.131038Z",
     "shell.execute_reply": "2022-07-20T08:44:59.129911Z"
    },
    "papermill": {
     "duration": 0.419141,
     "end_time": "2022-07-20T08:44:59.133732",
     "exception": false,
     "start_time": "2022-07-20T08:44:58.714591",
     "status": "completed"
    },
    "tags": []
   },
   "outputs": [],
   "source": [
    "df['num_sentences'] = df['text'].apply(lambda x: len(nltk.sent_tokenize(x)))"
   ]
  },
  {
   "cell_type": "code",
   "execution_count": 24,
   "id": "b19a0a24",
   "metadata": {
    "execution": {
     "iopub.execute_input": "2022-07-20T08:44:59.189072Z",
     "iopub.status.busy": "2022-07-20T08:44:59.188686Z",
     "iopub.status.idle": "2022-07-20T08:44:59.199466Z",
     "shell.execute_reply": "2022-07-20T08:44:59.198688Z"
    },
    "papermill": {
     "duration": 0.040933,
     "end_time": "2022-07-20T08:44:59.201755",
     "exception": false,
     "start_time": "2022-07-20T08:44:59.160822",
     "status": "completed"
    },
    "tags": []
   },
   "outputs": [
    {
     "data": {
      "text/html": [
       "<div>\n",
       "<style scoped>\n",
       "    .dataframe tbody tr th:only-of-type {\n",
       "        vertical-align: middle;\n",
       "    }\n",
       "\n",
       "    .dataframe tbody tr th {\n",
       "        vertical-align: top;\n",
       "    }\n",
       "\n",
       "    .dataframe thead th {\n",
       "        text-align: right;\n",
       "    }\n",
       "</style>\n",
       "<table border=\"1\" class=\"dataframe\">\n",
       "  <thead>\n",
       "    <tr style=\"text-align: right;\">\n",
       "      <th></th>\n",
       "      <th>target</th>\n",
       "      <th>text</th>\n",
       "      <th>num_characters</th>\n",
       "      <th>num_words</th>\n",
       "      <th>num_sentences</th>\n",
       "    </tr>\n",
       "  </thead>\n",
       "  <tbody>\n",
       "    <tr>\n",
       "      <th>0</th>\n",
       "      <td>0</td>\n",
       "      <td>Go until jurong point, crazy.. Available only ...</td>\n",
       "      <td>111</td>\n",
       "      <td>23</td>\n",
       "      <td>2</td>\n",
       "    </tr>\n",
       "    <tr>\n",
       "      <th>1</th>\n",
       "      <td>0</td>\n",
       "      <td>Ok lar... Joking wif u oni...</td>\n",
       "      <td>29</td>\n",
       "      <td>8</td>\n",
       "      <td>2</td>\n",
       "    </tr>\n",
       "    <tr>\n",
       "      <th>2</th>\n",
       "      <td>1</td>\n",
       "      <td>Free entry in 2 a wkly comp to win FA Cup fina...</td>\n",
       "      <td>155</td>\n",
       "      <td>37</td>\n",
       "      <td>2</td>\n",
       "    </tr>\n",
       "    <tr>\n",
       "      <th>3</th>\n",
       "      <td>0</td>\n",
       "      <td>U dun say so early hor... U c already then say...</td>\n",
       "      <td>49</td>\n",
       "      <td>13</td>\n",
       "      <td>1</td>\n",
       "    </tr>\n",
       "    <tr>\n",
       "      <th>4</th>\n",
       "      <td>0</td>\n",
       "      <td>Nah I don't think he goes to usf, he lives aro...</td>\n",
       "      <td>61</td>\n",
       "      <td>15</td>\n",
       "      <td>1</td>\n",
       "    </tr>\n",
       "  </tbody>\n",
       "</table>\n",
       "</div>"
      ],
      "text/plain": [
       "   target                                               text  num_characters  \\\n",
       "0       0  Go until jurong point, crazy.. Available only ...             111   \n",
       "1       0                      Ok lar... Joking wif u oni...              29   \n",
       "2       1  Free entry in 2 a wkly comp to win FA Cup fina...             155   \n",
       "3       0  U dun say so early hor... U c already then say...              49   \n",
       "4       0  Nah I don't think he goes to usf, he lives aro...              61   \n",
       "\n",
       "   num_words  num_sentences  \n",
       "0         23              2  \n",
       "1          8              2  \n",
       "2         37              2  \n",
       "3         13              1  \n",
       "4         15              1  "
      ]
     },
     "execution_count": 24,
     "metadata": {},
     "output_type": "execute_result"
    }
   ],
   "source": [
    "df.head()"
   ]
  },
  {
   "cell_type": "code",
   "execution_count": 25,
   "id": "2d3377ac",
   "metadata": {
    "execution": {
     "iopub.execute_input": "2022-07-20T08:44:59.256738Z",
     "iopub.status.busy": "2022-07-20T08:44:59.255617Z",
     "iopub.status.idle": "2022-07-20T08:44:59.278547Z",
     "shell.execute_reply": "2022-07-20T08:44:59.277766Z"
    },
    "papermill": {
     "duration": 0.05254,
     "end_time": "2022-07-20T08:44:59.280577",
     "exception": false,
     "start_time": "2022-07-20T08:44:59.228037",
     "status": "completed"
    },
    "tags": []
   },
   "outputs": [
    {
     "data": {
      "text/html": [
       "<div>\n",
       "<style scoped>\n",
       "    .dataframe tbody tr th:only-of-type {\n",
       "        vertical-align: middle;\n",
       "    }\n",
       "\n",
       "    .dataframe tbody tr th {\n",
       "        vertical-align: top;\n",
       "    }\n",
       "\n",
       "    .dataframe thead th {\n",
       "        text-align: right;\n",
       "    }\n",
       "</style>\n",
       "<table border=\"1\" class=\"dataframe\">\n",
       "  <thead>\n",
       "    <tr style=\"text-align: right;\">\n",
       "      <th></th>\n",
       "      <th>num_characters</th>\n",
       "      <th>num_words</th>\n",
       "      <th>num_sentences</th>\n",
       "    </tr>\n",
       "  </thead>\n",
       "  <tbody>\n",
       "    <tr>\n",
       "      <th>count</th>\n",
       "      <td>5169.000000</td>\n",
       "      <td>5169.000000</td>\n",
       "      <td>5169.000000</td>\n",
       "    </tr>\n",
       "    <tr>\n",
       "      <th>mean</th>\n",
       "      <td>78.977945</td>\n",
       "      <td>18.286129</td>\n",
       "      <td>1.961308</td>\n",
       "    </tr>\n",
       "    <tr>\n",
       "      <th>std</th>\n",
       "      <td>58.236293</td>\n",
       "      <td>13.226400</td>\n",
       "      <td>1.432583</td>\n",
       "    </tr>\n",
       "    <tr>\n",
       "      <th>min</th>\n",
       "      <td>2.000000</td>\n",
       "      <td>1.000000</td>\n",
       "      <td>1.000000</td>\n",
       "    </tr>\n",
       "    <tr>\n",
       "      <th>25%</th>\n",
       "      <td>36.000000</td>\n",
       "      <td>9.000000</td>\n",
       "      <td>1.000000</td>\n",
       "    </tr>\n",
       "    <tr>\n",
       "      <th>50%</th>\n",
       "      <td>60.000000</td>\n",
       "      <td>15.000000</td>\n",
       "      <td>1.000000</td>\n",
       "    </tr>\n",
       "    <tr>\n",
       "      <th>75%</th>\n",
       "      <td>117.000000</td>\n",
       "      <td>26.000000</td>\n",
       "      <td>2.000000</td>\n",
       "    </tr>\n",
       "    <tr>\n",
       "      <th>max</th>\n",
       "      <td>910.000000</td>\n",
       "      <td>219.000000</td>\n",
       "      <td>38.000000</td>\n",
       "    </tr>\n",
       "  </tbody>\n",
       "</table>\n",
       "</div>"
      ],
      "text/plain": [
       "       num_characters    num_words  num_sentences\n",
       "count     5169.000000  5169.000000    5169.000000\n",
       "mean        78.977945    18.286129       1.961308\n",
       "std         58.236293    13.226400       1.432583\n",
       "min          2.000000     1.000000       1.000000\n",
       "25%         36.000000     9.000000       1.000000\n",
       "50%         60.000000    15.000000       1.000000\n",
       "75%        117.000000    26.000000       2.000000\n",
       "max        910.000000   219.000000      38.000000"
      ]
     },
     "execution_count": 25,
     "metadata": {},
     "output_type": "execute_result"
    }
   ],
   "source": [
    "df[['num_characters','num_words','num_sentences']].describe()"
   ]
  },
  {
   "cell_type": "code",
   "execution_count": 26,
   "id": "f05a0e59",
   "metadata": {
    "execution": {
     "iopub.execute_input": "2022-07-20T08:44:59.335849Z",
     "iopub.status.busy": "2022-07-20T08:44:59.335410Z",
     "iopub.status.idle": "2022-07-20T08:44:59.357068Z",
     "shell.execute_reply": "2022-07-20T08:44:59.356268Z"
    },
    "papermill": {
     "duration": 0.052264,
     "end_time": "2022-07-20T08:44:59.359192",
     "exception": false,
     "start_time": "2022-07-20T08:44:59.306928",
     "status": "completed"
    },
    "tags": []
   },
   "outputs": [
    {
     "data": {
      "text/html": [
       "<div>\n",
       "<style scoped>\n",
       "    .dataframe tbody tr th:only-of-type {\n",
       "        vertical-align: middle;\n",
       "    }\n",
       "\n",
       "    .dataframe tbody tr th {\n",
       "        vertical-align: top;\n",
       "    }\n",
       "\n",
       "    .dataframe thead th {\n",
       "        text-align: right;\n",
       "    }\n",
       "</style>\n",
       "<table border=\"1\" class=\"dataframe\">\n",
       "  <thead>\n",
       "    <tr style=\"text-align: right;\">\n",
       "      <th></th>\n",
       "      <th>num_characters</th>\n",
       "      <th>num_words</th>\n",
       "      <th>num_sentences</th>\n",
       "    </tr>\n",
       "  </thead>\n",
       "  <tbody>\n",
       "    <tr>\n",
       "      <th>count</th>\n",
       "      <td>4516.000000</td>\n",
       "      <td>4516.000000</td>\n",
       "      <td>4516.000000</td>\n",
       "    </tr>\n",
       "    <tr>\n",
       "      <th>mean</th>\n",
       "      <td>70.459256</td>\n",
       "      <td>16.957484</td>\n",
       "      <td>1.815545</td>\n",
       "    </tr>\n",
       "    <tr>\n",
       "      <th>std</th>\n",
       "      <td>56.358207</td>\n",
       "      <td>13.394052</td>\n",
       "      <td>1.364098</td>\n",
       "    </tr>\n",
       "    <tr>\n",
       "      <th>min</th>\n",
       "      <td>2.000000</td>\n",
       "      <td>1.000000</td>\n",
       "      <td>1.000000</td>\n",
       "    </tr>\n",
       "    <tr>\n",
       "      <th>25%</th>\n",
       "      <td>34.000000</td>\n",
       "      <td>8.000000</td>\n",
       "      <td>1.000000</td>\n",
       "    </tr>\n",
       "    <tr>\n",
       "      <th>50%</th>\n",
       "      <td>52.000000</td>\n",
       "      <td>13.000000</td>\n",
       "      <td>1.000000</td>\n",
       "    </tr>\n",
       "    <tr>\n",
       "      <th>75%</th>\n",
       "      <td>90.000000</td>\n",
       "      <td>22.000000</td>\n",
       "      <td>2.000000</td>\n",
       "    </tr>\n",
       "    <tr>\n",
       "      <th>max</th>\n",
       "      <td>910.000000</td>\n",
       "      <td>219.000000</td>\n",
       "      <td>38.000000</td>\n",
       "    </tr>\n",
       "  </tbody>\n",
       "</table>\n",
       "</div>"
      ],
      "text/plain": [
       "       num_characters    num_words  num_sentences\n",
       "count     4516.000000  4516.000000    4516.000000\n",
       "mean        70.459256    16.957484       1.815545\n",
       "std         56.358207    13.394052       1.364098\n",
       "min          2.000000     1.000000       1.000000\n",
       "25%         34.000000     8.000000       1.000000\n",
       "50%         52.000000    13.000000       1.000000\n",
       "75%         90.000000    22.000000       2.000000\n",
       "max        910.000000   219.000000      38.000000"
      ]
     },
     "execution_count": 26,
     "metadata": {},
     "output_type": "execute_result"
    }
   ],
   "source": [
    "#ham\n",
    "df[df['target']==0][['num_characters','num_words','num_sentences']].describe()"
   ]
  },
  {
   "cell_type": "code",
   "execution_count": 27,
   "id": "72318a7f",
   "metadata": {
    "execution": {
     "iopub.execute_input": "2022-07-20T08:44:59.414896Z",
     "iopub.status.busy": "2022-07-20T08:44:59.414469Z",
     "iopub.status.idle": "2022-07-20T08:44:59.436590Z",
     "shell.execute_reply": "2022-07-20T08:44:59.435483Z"
    },
    "papermill": {
     "duration": 0.053131,
     "end_time": "2022-07-20T08:44:59.439133",
     "exception": false,
     "start_time": "2022-07-20T08:44:59.386002",
     "status": "completed"
    },
    "tags": []
   },
   "outputs": [
    {
     "data": {
      "text/html": [
       "<div>\n",
       "<style scoped>\n",
       "    .dataframe tbody tr th:only-of-type {\n",
       "        vertical-align: middle;\n",
       "    }\n",
       "\n",
       "    .dataframe tbody tr th {\n",
       "        vertical-align: top;\n",
       "    }\n",
       "\n",
       "    .dataframe thead th {\n",
       "        text-align: right;\n",
       "    }\n",
       "</style>\n",
       "<table border=\"1\" class=\"dataframe\">\n",
       "  <thead>\n",
       "    <tr style=\"text-align: right;\">\n",
       "      <th></th>\n",
       "      <th>num_characters</th>\n",
       "      <th>num_words</th>\n",
       "      <th>num_sentences</th>\n",
       "    </tr>\n",
       "  </thead>\n",
       "  <tbody>\n",
       "    <tr>\n",
       "      <th>count</th>\n",
       "      <td>653.000000</td>\n",
       "      <td>653.000000</td>\n",
       "      <td>653.000000</td>\n",
       "    </tr>\n",
       "    <tr>\n",
       "      <th>mean</th>\n",
       "      <td>137.891271</td>\n",
       "      <td>27.474732</td>\n",
       "      <td>2.969372</td>\n",
       "    </tr>\n",
       "    <tr>\n",
       "      <th>std</th>\n",
       "      <td>30.137753</td>\n",
       "      <td>6.893007</td>\n",
       "      <td>1.488910</td>\n",
       "    </tr>\n",
       "    <tr>\n",
       "      <th>min</th>\n",
       "      <td>13.000000</td>\n",
       "      <td>2.000000</td>\n",
       "      <td>1.000000</td>\n",
       "    </tr>\n",
       "    <tr>\n",
       "      <th>25%</th>\n",
       "      <td>132.000000</td>\n",
       "      <td>25.000000</td>\n",
       "      <td>2.000000</td>\n",
       "    </tr>\n",
       "    <tr>\n",
       "      <th>50%</th>\n",
       "      <td>149.000000</td>\n",
       "      <td>29.000000</td>\n",
       "      <td>3.000000</td>\n",
       "    </tr>\n",
       "    <tr>\n",
       "      <th>75%</th>\n",
       "      <td>157.000000</td>\n",
       "      <td>32.000000</td>\n",
       "      <td>4.000000</td>\n",
       "    </tr>\n",
       "    <tr>\n",
       "      <th>max</th>\n",
       "      <td>224.000000</td>\n",
       "      <td>44.000000</td>\n",
       "      <td>9.000000</td>\n",
       "    </tr>\n",
       "  </tbody>\n",
       "</table>\n",
       "</div>"
      ],
      "text/plain": [
       "       num_characters   num_words  num_sentences\n",
       "count      653.000000  653.000000     653.000000\n",
       "mean       137.891271   27.474732       2.969372\n",
       "std         30.137753    6.893007       1.488910\n",
       "min         13.000000    2.000000       1.000000\n",
       "25%        132.000000   25.000000       2.000000\n",
       "50%        149.000000   29.000000       3.000000\n",
       "75%        157.000000   32.000000       4.000000\n",
       "max        224.000000   44.000000       9.000000"
      ]
     },
     "execution_count": 27,
     "metadata": {},
     "output_type": "execute_result"
    }
   ],
   "source": [
    "#spam\n",
    "df[df['target']==1][['num_characters','num_words','num_sentences']].describe()"
   ]
  },
  {
   "cell_type": "code",
   "execution_count": 28,
   "id": "340c0c9f",
   "metadata": {
    "execution": {
     "iopub.execute_input": "2022-07-20T08:44:59.496944Z",
     "iopub.status.busy": "2022-07-20T08:44:59.496485Z",
     "iopub.status.idle": "2022-07-20T08:44:59.683510Z",
     "shell.execute_reply": "2022-07-20T08:44:59.682025Z"
    },
    "papermill": {
     "duration": 0.218957,
     "end_time": "2022-07-20T08:44:59.686568",
     "exception": false,
     "start_time": "2022-07-20T08:44:59.467611",
     "status": "completed"
    },
    "tags": []
   },
   "outputs": [],
   "source": [
    "import seaborn as sns"
   ]
  },
  {
   "cell_type": "code",
   "execution_count": 29,
   "id": "e944430a",
   "metadata": {
    "execution": {
     "iopub.execute_input": "2022-07-20T08:44:59.744242Z",
     "iopub.status.busy": "2022-07-20T08:44:59.743857Z",
     "iopub.status.idle": "2022-07-20T08:45:00.268415Z",
     "shell.execute_reply": "2022-07-20T08:45:00.267109Z"
    },
    "papermill": {
     "duration": 0.556616,
     "end_time": "2022-07-20T08:45:00.271116",
     "exception": false,
     "start_time": "2022-07-20T08:44:59.714500",
     "status": "completed"
    },
    "tags": []
   },
   "outputs": [
    {
     "data": {
      "text/plain": [
       "<AxesSubplot:xlabel='num_characters', ylabel='Count'>"
      ]
     },
     "execution_count": 29,
     "metadata": {},
     "output_type": "execute_result"
    },
    {
     "data": {
      "image/png": "[encoded data removed]",
      "text/plain": [
       "<Figure size 864x432 with 1 Axes>"
      ]
     },
     "metadata": {
      "needs_background": "light"
     },
     "output_type": "display_data"
    }
   ],
   "source": [
    "plt.figure(figsize = (12,6))\n",
    "sns.histplot(df[df['target'] == 0]['num_characters'])\n",
    "sns.histplot(df[df['target'] == 1]['num_characters'],color = 'red')"
   ]
  },
  {
   "cell_type": "code",
   "execution_count": 30,
   "id": "e43b1fd3",
   "metadata": {
    "execution": {
     "iopub.execute_input": "2022-07-20T08:45:00.327754Z",
     "iopub.status.busy": "2022-07-20T08:45:00.327332Z",
     "iopub.status.idle": "2022-07-20T08:45:00.809362Z",
     "shell.execute_reply": "2022-07-20T08:45:00.808483Z"
    },
    "papermill": {
     "duration": 0.51314,
     "end_time": "2022-07-20T08:45:00.811717",
     "exception": false,
     "start_time": "2022-07-20T08:45:00.298577",
     "status": "completed"
    },
    "tags": []
   },
   "outputs": [
    {
     "data": {
      "text/plain": [
       "<AxesSubplot:xlabel='num_words', ylabel='Count'>"
      ]
     },
     "execution_count": 30,
     "metadata": {},
     "output_type": "execute_result"
    },
    {
     "data": {
      "image/png": "[encoded data removed]",
      "text/plain": [
       "<Figure size 864x432 with 1 Axes>"
      ]
     },
     "metadata": {
      "needs_background": "light"
     },
     "output_type": "display_data"
    }
   ],
   "source": [
    "plt.figure(figsize = (12,6))\n",
    "sns.histplot(df[df['target'] == 0]['num_words'])\n",
    "sns.histplot(df[df['target'] == 1]['num_words'],color = 'red')"
   ]
  },
  {
   "cell_type": "code",
   "execution_count": 31,
   "id": "d52c5662",
   "metadata": {
    "execution": {
     "iopub.execute_input": "2022-07-20T08:45:00.869774Z",
     "iopub.status.busy": "2022-07-20T08:45:00.868873Z",
     "iopub.status.idle": "2022-07-20T08:45:01.774124Z",
     "shell.execute_reply": "2022-07-20T08:45:01.773018Z"
    },
    "papermill": {
     "duration": 0.936935,
     "end_time": "2022-07-20T08:45:01.776613",
     "exception": false,
     "start_time": "2022-07-20T08:45:00.839678",
     "status": "completed"
    },
    "tags": []
   },
   "outputs": [
    {
     "data": {
      "text/plain": [
       "<AxesSubplot:xlabel='num_sentences', ylabel='Count'>"
      ]
     },
     "execution_count": 31,
     "metadata": {},
     "output_type": "execute_result"
    },
    {
     "data": {
      "image/png": "[encoded data removed]",
      "text/plain": [
       "<Figure size 864x432 with 1 Axes>"
      ]
     },
     "metadata": {
      "needs_background": "light"
     },
     "output_type": "display_data"
    }
   ],
   "source": [
    "plt.figure(figsize = (12,6))\n",
    "sns.histplot(df[df['target'] == 0]['num_sentences'])\n",
    "sns.histplot(df[df['target'] == 1]['num_sentences'],color = 'red')"
   ]
  },
  {
   "cell_type": "code",
   "execution_count": 32,
   "id": "9ebb67ff",
   "metadata": {
    "execution": {
     "iopub.execute_input": "2022-07-20T08:45:01.838505Z",
     "iopub.status.busy": "2022-07-20T08:45:01.838046Z",
     "iopub.status.idle": "2022-07-20T08:45:05.944830Z",
     "shell.execute_reply": "2022-07-20T08:45:05.943583Z"
    },
    "papermill": {
     "duration": 4.142173,
     "end_time": "2022-07-20T08:45:05.948396",
     "exception": false,
     "start_time": "2022-07-20T08:45:01.806223",
     "status": "completed"
    },
    "tags": []
   },
   "outputs": [
    {
     "data": {
      "text/plain": [
       "<seaborn.axisgrid.PairGrid at 0x7f274c40f7d0>"
      ]
     },
     "execution_count": 32,
     "metadata": {},
     "output_type": "execute_result"
    },
    {
     "data": {
      "image/png": "[encoded data removed]",
      "text/plain": [
       "<Figure size 582.375x540 with 12 Axes>"
      ]
     },
     "metadata": {
      "needs_background": "light"
     },
     "output_type": "display_data"
    }
   ],
   "source": [
    "sns.pairplot(df,hue = 'target')"
   ]
  },
  {
   "cell_type": "code",
   "execution_count": 33,
   "id": "57d0e097",
   "metadata": {
    "execution": {
     "iopub.execute_input": "2022-07-20T08:45:06.010417Z",
     "iopub.status.busy": "2022-07-20T08:45:06.010039Z",
     "iopub.status.idle": "2022-07-20T08:45:06.304378Z",
     "shell.execute_reply": "2022-07-20T08:45:06.303117Z"
    },
    "papermill": {
     "duration": 0.327898,
     "end_time": "2022-07-20T08:45:06.306937",
     "exception": false,
     "start_time": "2022-07-20T08:45:05.979039",
     "status": "completed"
    },
    "tags": []
   },
   "outputs": [
    {
     "data": {
      "text/plain": [
       "<AxesSubplot:>"
      ]
     },
     "execution_count": 33,
     "metadata": {},
     "output_type": "execute_result"
    },
    {
     "data": {
      "image/png": "[encoded data removed]",
      "text/plain": [
       "<Figure size 432x288 with 2 Axes>"
      ]
     },
     "metadata": {
      "needs_background": "light"
     },
     "output_type": "display_data"
    }
   ],
   "source": [
    "#finding the pearson's coefficient\n",
    "sns.heatmap(df.corr(),annot = True)"
   ]
  },
  {
   "cell_type": "markdown",
   "id": "6ba497c8",
   "metadata": {
    "papermill": {
     "duration": 0.029954,
     "end_time": "2022-07-20T08:45:06.367022",
     "exception": false,
     "start_time": "2022-07-20T08:45:06.337068",
     "status": "completed"
    },
    "tags": []
   },
   "source": [
    "# Data/Text Preprocessing"
   ]
  },
  {
   "cell_type": "code",
   "execution_count": 34,
   "id": "c8d3e0ba",
   "metadata": {
    "execution": {
     "iopub.execute_input": "2022-07-20T08:45:06.429155Z",
     "iopub.status.busy": "2022-07-20T08:45:06.428265Z",
     "iopub.status.idle": "2022-07-20T08:45:06.433363Z",
     "shell.execute_reply": "2022-07-20T08:45:06.431875Z"
    },
    "papermill": {
     "duration": 0.038686,
     "end_time": "2022-07-20T08:45:06.435826",
     "exception": false,
     "start_time": "2022-07-20T08:45:06.397140",
     "status": "completed"
    },
    "tags": []
   },
   "outputs": [],
   "source": [
    "#Data preprocessing will involve:-\n",
    "#convert into Lower Case\n",
    "#Tokenization\n",
    "#Removing special characters\n",
    "#Removing stop words and punctuation\n",
    "#Stemming"
   ]
  },
  {
   "cell_type": "code",
   "execution_count": 35,
   "id": "9afb9a4f",
   "metadata": {
    "execution": {
     "iopub.execute_input": "2022-07-20T08:45:06.499037Z",
     "iopub.status.busy": "2022-07-20T08:45:06.498302Z",
     "iopub.status.idle": "2022-07-20T08:45:06.507670Z",
     "shell.execute_reply": "2022-07-20T08:45:06.506520Z"
    },
    "papermill": {
     "duration": 0.043973,
     "end_time": "2022-07-20T08:45:06.509916",
     "exception": false,
     "start_time": "2022-07-20T08:45:06.465943",
     "status": "completed"
    },
    "tags": []
   },
   "outputs": [],
   "source": [
    "import string \n",
    "string.punctuation\n",
    "\n",
    "from nltk.stem.porter import PorterStemmer\n",
    "ps = PorterStemmer()\n",
    "\n",
    "def transform_text(text):\n",
    "    text = text.lower()\n",
    "    text = nltk.word_tokenize(text)\n",
    "    y = []\n",
    "    for i in text:\n",
    "        if i.isalnum():\n",
    "            y.append(i)\n",
    "            \n",
    "    text = y[:]\n",
    "    y.clear()\n",
    "    for i in text:\n",
    "        if i not in stopwords.words('english') and i not in string.punctuation:\n",
    "            y.append(i)\n",
    "            \n",
    "    text = y[:]\n",
    "    y.clear()\n",
    "    \n",
    "    for i in text:\n",
    "        y.append(ps.stem(i))\n",
    "            \n",
    "    return \" \".join(y)"
   ]
  },
  {
   "cell_type": "code",
   "execution_count": 36,
   "id": "71beb78f",
   "metadata": {
    "execution": {
     "iopub.execute_input": "2022-07-20T08:45:06.572000Z",
     "iopub.status.busy": "2022-07-20T08:45:06.571307Z",
     "iopub.status.idle": "2022-07-20T08:45:06.587232Z",
     "shell.execute_reply": "2022-07-20T08:45:06.586096Z"
    },
    "papermill": {
     "duration": 0.050178,
     "end_time": "2022-07-20T08:45:06.589986",
     "exception": false,
     "start_time": "2022-07-20T08:45:06.539808",
     "status": "completed"
    },
    "tags": []
   },
   "outputs": [
    {
     "data": {
      "text/plain": [
       "['i',\n",
       " 'me',\n",
       " 'my',\n",
       " 'myself',\n",
       " 'we',\n",
       " 'our',\n",
       " 'ours',\n",
       " 'ourselves',\n",
       " 'you',\n",
       " \"you're\",\n",
       " \"you've\",\n",
       " \"you'll\",\n",
       " \"you'd\",\n",
       " 'your',\n",
       " 'yours',\n",
       " 'yourself',\n",
       " 'yourselves',\n",
       " 'he',\n",
       " 'him',\n",
       " 'his',\n",
       " 'himself',\n",
       " 'she',\n",
       " \"she's\",\n",
       " 'her',\n",
       " 'hers',\n",
       " 'herself',\n",
       " 'it',\n",
       " \"it's\",\n",
       " 'its',\n",
       " 'itself',\n",
       " 'they',\n",
       " 'them',\n",
       " 'their',\n",
       " 'theirs',\n",
       " 'themselves',\n",
       " 'what',\n",
       " 'which',\n",
       " 'who',\n",
       " 'whom',\n",
       " 'this',\n",
       " 'that',\n",
       " \"that'll\",\n",
       " 'these',\n",
       " 'those',\n",
       " 'am',\n",
       " 'is',\n",
       " 'are',\n",
       " 'was',\n",
       " 'were',\n",
       " 'be',\n",
       " 'been',\n",
       " 'being',\n",
       " 'have',\n",
       " 'has',\n",
       " 'had',\n",
       " 'having',\n",
       " 'do',\n",
       " 'does',\n",
       " 'did',\n",
       " 'doing',\n",
       " 'a',\n",
       " 'an',\n",
       " 'the',\n",
       " 'and',\n",
       " 'but',\n",
       " 'if',\n",
       " 'or',\n",
       " 'because',\n",
       " 'as',\n",
       " 'until',\n",
       " 'while',\n",
       " 'of',\n",
       " 'at',\n",
       " 'by',\n",
       " 'for',\n",
       " 'with',\n",
       " 'about',\n",
       " 'against',\n",
       " 'between',\n",
       " 'into',\n",
       " 'through',\n",
       " 'during',\n",
       " 'before',\n",
       " 'after',\n",
       " 'above',\n",
       " 'below',\n",
       " 'to',\n",
       " 'from',\n",
       " 'up',\n",
       " 'down',\n",
       " 'in',\n",
       " 'out',\n",
       " 'on',\n",
       " 'off',\n",
       " 'over',\n",
       " 'under',\n",
       " 'again',\n",
       " 'further',\n",
       " 'then',\n",
       " 'once',\n",
       " 'here',\n",
       " 'there',\n",
       " 'when',\n",
       " 'where',\n",
       " 'why',\n",
       " 'how',\n",
       " 'all',\n",
       " 'any',\n",
       " 'both',\n",
       " 'each',\n",
       " 'few',\n",
       " 'more',\n",
       " 'most',\n",
       " 'other',\n",
       " 'some',\n",
       " 'such',\n",
       " 'no',\n",
       " 'nor',\n",
       " 'not',\n",
       " 'only',\n",
       " 'own',\n",
       " 'same',\n",
       " 'so',\n",
       " 'than',\n",
       " 'too',\n",
       " 'very',\n",
       " 's',\n",
       " 't',\n",
       " 'can',\n",
       " 'will',\n",
       " 'just',\n",
       " 'don',\n",
       " \"don't\",\n",
       " 'should',\n",
       " \"should've\",\n",
       " 'now',\n",
       " 'd',\n",
       " 'll',\n",
       " 'm',\n",
       " 'o',\n",
       " 're',\n",
       " 've',\n",
       " 'y',\n",
       " 'ain',\n",
       " 'aren',\n",
       " \"aren't\",\n",
       " 'couldn',\n",
       " \"couldn't\",\n",
       " 'didn',\n",
       " \"didn't\",\n",
       " 'doesn',\n",
       " \"doesn't\",\n",
       " 'hadn',\n",
       " \"hadn't\",\n",
       " 'hasn',\n",
       " \"hasn't\",\n",
       " 'haven',\n",
       " \"haven't\",\n",
       " 'isn',\n",
       " \"isn't\",\n",
       " 'ma',\n",
       " 'mightn',\n",
       " \"mightn't\",\n",
       " 'mustn',\n",
       " \"mustn't\",\n",
       " 'needn',\n",
       " \"needn't\",\n",
       " 'shan',\n",
       " \"shan't\",\n",
       " 'shouldn',\n",
       " \"shouldn't\",\n",
       " 'wasn',\n",
       " \"wasn't\",\n",
       " 'weren',\n",
       " \"weren't\",\n",
       " 'won',\n",
       " \"won't\",\n",
       " 'wouldn',\n",
       " \"wouldn't\"]"
      ]
     },
     "execution_count": 36,
     "metadata": {},
     "output_type": "execute_result"
    }
   ],
   "source": [
    "from nltk.corpus import stopwords\n",
    "stopwords.words('english')"
   ]
  },
  {
   "cell_type": "code",
   "execution_count": 37,
   "id": "707070e0",
   "metadata": {
    "execution": {
     "iopub.execute_input": "2022-07-20T08:45:06.654115Z",
     "iopub.status.busy": "2022-07-20T08:45:06.653286Z",
     "iopub.status.idle": "2022-07-20T08:45:06.660155Z",
     "shell.execute_reply": "2022-07-20T08:45:06.659308Z"
    },
    "papermill": {
     "duration": 0.041939,
     "end_time": "2022-07-20T08:45:06.662299",
     "exception": false,
     "start_time": "2022-07-20T08:45:06.620360",
     "status": "completed"
    },
    "tags": []
   },
   "outputs": [
    {
     "data": {
      "text/plain": [
       "'!\"#$%&\\'()*+,-./:;<=>?@[\\\\]^_`{|}~'"
      ]
     },
     "execution_count": 37,
     "metadata": {},
     "output_type": "execute_result"
    }
   ],
   "source": [
    "import string \n",
    "string.punctuation"
   ]
  },
  {
   "cell_type": "code",
   "execution_count": 38,
   "id": "ff271281",
   "metadata": {
    "execution": {
     "iopub.execute_input": "2022-07-20T08:45:06.725046Z",
     "iopub.status.busy": "2022-07-20T08:45:06.724382Z",
     "iopub.status.idle": "2022-07-20T08:45:06.735508Z",
     "shell.execute_reply": "2022-07-20T08:45:06.734370Z"
    },
    "papermill": {
     "duration": 0.045339,
     "end_time": "2022-07-20T08:45:06.737795",
     "exception": false,
     "start_time": "2022-07-20T08:45:06.692456",
     "status": "completed"
    },
    "tags": []
   },
   "outputs": [
    {
     "data": {
      "text/plain": [
       "'gon na home soon want talk stuff anymor tonight k cri enough today'"
      ]
     },
     "execution_count": 38,
     "metadata": {},
     "output_type": "execute_result"
    }
   ],
   "source": [
    "transform_text(df['text'][10])"
   ]
  },
  {
   "cell_type": "code",
   "execution_count": 39,
   "id": "395f01e4",
   "metadata": {
    "execution": {
     "iopub.execute_input": "2022-07-20T08:45:06.801126Z",
     "iopub.status.busy": "2022-07-20T08:45:06.800447Z",
     "iopub.status.idle": "2022-07-20T08:45:06.807440Z",
     "shell.execute_reply": "2022-07-20T08:45:06.806323Z"
    },
    "papermill": {
     "duration": 0.041484,
     "end_time": "2022-07-20T08:45:06.809609",
     "exception": false,
     "start_time": "2022-07-20T08:45:06.768125",
     "status": "completed"
    },
    "tags": []
   },
   "outputs": [
    {
     "data": {
      "text/plain": [
       "\"But i'll b going 2 sch on mon. My sis need 2 take smth.\""
      ]
     },
     "execution_count": 39,
     "metadata": {},
     "output_type": "execute_result"
    }
   ],
   "source": [
    "df['text'][2000]"
   ]
  },
  {
   "cell_type": "code",
   "execution_count": 40,
   "id": "d3913df6",
   "metadata": {
    "execution": {
     "iopub.execute_input": "2022-07-20T08:45:06.872670Z",
     "iopub.status.busy": "2022-07-20T08:45:06.872015Z",
     "iopub.status.idle": "2022-07-20T08:45:06.879214Z",
     "shell.execute_reply": "2022-07-20T08:45:06.878252Z"
    },
    "papermill": {
     "duration": 0.041123,
     "end_time": "2022-07-20T08:45:06.881331",
     "exception": false,
     "start_time": "2022-07-20T08:45:06.840208",
     "status": "completed"
    },
    "tags": []
   },
   "outputs": [
    {
     "data": {
      "text/plain": [
       "'go'"
      ]
     },
     "execution_count": 40,
     "metadata": {},
     "output_type": "execute_result"
    }
   ],
   "source": [
    "from nltk.stem.porter import PorterStemmer\n",
    "ps = PorterStemmer()\n",
    "ps.stem('going')"
   ]
  },
  {
   "cell_type": "code",
   "execution_count": 41,
   "id": "c55876c8",
   "metadata": {
    "execution": {
     "iopub.execute_input": "2022-07-20T08:45:06.946438Z",
     "iopub.status.busy": "2022-07-20T08:45:06.945622Z",
     "iopub.status.idle": "2022-07-20T08:45:20.367993Z",
     "shell.execute_reply": "2022-07-20T08:45:20.366886Z"
    },
    "papermill": {
     "duration": 13.459042,
     "end_time": "2022-07-20T08:45:20.370845",
     "exception": false,
     "start_time": "2022-07-20T08:45:06.911803",
     "status": "completed"
    },
    "tags": []
   },
   "outputs": [],
   "source": [
    "df['transformed_text'] = df['text'].apply(transform_text)"
   ]
  },
  {
   "cell_type": "code",
   "execution_count": 42,
   "id": "4d8fdf93",
   "metadata": {
    "execution": {
     "iopub.execute_input": "2022-07-20T08:45:20.434343Z",
     "iopub.status.busy": "2022-07-20T08:45:20.433906Z",
     "iopub.status.idle": "2022-07-20T08:45:20.445917Z",
     "shell.execute_reply": "2022-07-20T08:45:20.444997Z"
    },
    "papermill": {
     "duration": 0.046345,
     "end_time": "2022-07-20T08:45:20.448162",
     "exception": false,
     "start_time": "2022-07-20T08:45:20.401817",
     "status": "completed"
    },
    "tags": []
   },
   "outputs": [
    {
     "data": {
      "text/html": [
       "<div>\n",
       "<style scoped>\n",
       "    .dataframe tbody tr th:only-of-type {\n",
       "        vertical-align: middle;\n",
       "    }\n",
       "\n",
       "    .dataframe tbody tr th {\n",
       "        vertical-align: top;\n",
       "    }\n",
       "\n",
       "    .dataframe thead th {\n",
       "        text-align: right;\n",
       "    }\n",
       "</style>\n",
       "<table border=\"1\" class=\"dataframe\">\n",
       "  <thead>\n",
       "    <tr style=\"text-align: right;\">\n",
       "      <th></th>\n",
       "      <th>target</th>\n",
       "      <th>text</th>\n",
       "      <th>num_characters</th>\n",
       "      <th>num_words</th>\n",
       "      <th>num_sentences</th>\n",
       "      <th>transformed_text</th>\n",
       "    </tr>\n",
       "  </thead>\n",
       "  <tbody>\n",
       "    <tr>\n",
       "      <th>0</th>\n",
       "      <td>0</td>\n",
       "      <td>Go until jurong point, crazy.. Available only ...</td>\n",
       "      <td>111</td>\n",
       "      <td>23</td>\n",
       "      <td>2</td>\n",
       "      <td>go jurong point avail bugi n great world la e ...</td>\n",
       "    </tr>\n",
       "    <tr>\n",
       "      <th>1</th>\n",
       "      <td>0</td>\n",
       "      <td>Ok lar... Joking wif u oni...</td>\n",
       "      <td>29</td>\n",
       "      <td>8</td>\n",
       "      <td>2</td>\n",
       "      <td>ok lar joke wif u oni</td>\n",
       "    </tr>\n",
       "    <tr>\n",
       "      <th>2</th>\n",
       "      <td>1</td>\n",
       "      <td>Free entry in 2 a wkly comp to win FA Cup fina...</td>\n",
       "      <td>155</td>\n",
       "      <td>37</td>\n",
       "      <td>2</td>\n",
       "      <td>free entri 2 wkli comp win fa cup final tkt 21...</td>\n",
       "    </tr>\n",
       "    <tr>\n",
       "      <th>3</th>\n",
       "      <td>0</td>\n",
       "      <td>U dun say so early hor... U c already then say...</td>\n",
       "      <td>49</td>\n",
       "      <td>13</td>\n",
       "      <td>1</td>\n",
       "      <td>u dun say earli hor u c alreadi say</td>\n",
       "    </tr>\n",
       "    <tr>\n",
       "      <th>4</th>\n",
       "      <td>0</td>\n",
       "      <td>Nah I don't think he goes to usf, he lives aro...</td>\n",
       "      <td>61</td>\n",
       "      <td>15</td>\n",
       "      <td>1</td>\n",
       "      <td>nah think goe usf live around though</td>\n",
       "    </tr>\n",
       "  </tbody>\n",
       "</table>\n",
       "</div>"
      ],
      "text/plain": [
       "   target                                               text  num_characters  \\\n",
       "0       0  Go until jurong point, crazy.. Available only ...             111   \n",
       "1       0                      Ok lar... Joking wif u oni...              29   \n",
       "2       1  Free entry in 2 a wkly comp to win FA Cup fina...             155   \n",
       "3       0  U dun say so early hor... U c already then say...              49   \n",
       "4       0  Nah I don't think he goes to usf, he lives aro...              61   \n",
       "\n",
       "   num_words  num_sentences                                   transformed_text  \n",
       "0         23              2  go jurong point avail bugi n great world la e ...  \n",
       "1          8              2                              ok lar joke wif u oni  \n",
       "2         37              2  free entri 2 wkli comp win fa cup final tkt 21...  \n",
       "3         13              1                u dun say earli hor u c alreadi say  \n",
       "4         15              1               nah think goe usf live around though  "
      ]
     },
     "execution_count": 42,
     "metadata": {},
     "output_type": "execute_result"
    }
   ],
   "source": [
    "df.head()"
   ]
  },
  {
   "cell_type": "code",
   "execution_count": 43,
   "id": "d02dcb1a",
   "metadata": {
    "execution": {
     "iopub.execute_input": "2022-07-20T08:45:20.514586Z",
     "iopub.status.busy": "2022-07-20T08:45:20.513743Z",
     "iopub.status.idle": "2022-07-20T08:45:20.549401Z",
     "shell.execute_reply": "2022-07-20T08:45:20.548068Z"
    },
    "papermill": {
     "duration": 0.072929,
     "end_time": "2022-07-20T08:45:20.552060",
     "exception": false,
     "start_time": "2022-07-20T08:45:20.479131",
     "status": "completed"
    },
    "tags": []
   },
   "outputs": [],
   "source": [
    "from wordcloud import WordCloud\n",
    "wc = WordCloud(width = 500,height = 500,min_font_size = 10,background_color = 'white')"
   ]
  },
  {
   "cell_type": "code",
   "execution_count": 44,
   "id": "b4a7c678",
   "metadata": {
    "execution": {
     "iopub.execute_input": "2022-07-20T08:45:20.616512Z",
     "iopub.status.busy": "2022-07-20T08:45:20.615850Z",
     "iopub.status.idle": "2022-07-20T08:45:21.052191Z",
     "shell.execute_reply": "2022-07-20T08:45:21.051136Z"
    },
    "papermill": {
     "duration": 0.471476,
     "end_time": "2022-07-20T08:45:21.054793",
     "exception": false,
     "start_time": "2022-07-20T08:45:20.583317",
     "status": "completed"
    },
    "tags": []
   },
   "outputs": [],
   "source": [
    "spam_wc = wc.generate(df[df['target']==1]['transformed_text'].str.cat(sep=\" \"))"
   ]
  },
  {
   "cell_type": "code",
   "execution_count": 45,
   "id": "96081c38",
   "metadata": {
    "execution": {
     "iopub.execute_input": "2022-07-20T08:45:21.119251Z",
     "iopub.status.busy": "2022-07-20T08:45:21.118870Z",
     "iopub.status.idle": "2022-07-20T08:45:21.454118Z",
     "shell.execute_reply": "2022-07-20T08:45:21.452974Z"
    },
    "papermill": {
     "duration": 0.371895,
     "end_time": "2022-07-20T08:45:21.458049",
     "exception": false,
     "start_time": "2022-07-20T08:45:21.086154",
     "status": "completed"
    },
    "tags": []
   },
   "outputs": [
    {
     "data": {
      "text/plain": [
       "<matplotlib.image.AxesImage at 0x7f2741f81e50>"
      ]
     },
     "execution_count": 45,
     "metadata": {},
     "output_type": "execute_result"
    },
    {
     "data": {
      "image/png": "[encoded data removed]",
      "text/plain": [
       "<Figure size 864x432 with 1 Axes>"
      ]
     },
     "metadata": {
      "needs_background": "light"
     },
     "output_type": "display_data"
    }
   ],
   "source": [
    "plt.figure(figsize=(12,6))\n",
    "plt.imshow(spam_wc)"
   ]
  },
  {
   "cell_type": "code",
   "execution_count": 46,
   "id": "275cdd65",
   "metadata": {
    "execution": {
     "iopub.execute_input": "2022-07-20T08:45:21.527461Z",
     "iopub.status.busy": "2022-07-20T08:45:21.527090Z",
     "iopub.status.idle": "2022-07-20T08:45:22.423873Z",
     "shell.execute_reply": "2022-07-20T08:45:22.422706Z"
    },
    "papermill": {
     "duration": 0.935227,
     "end_time": "2022-07-20T08:45:22.426592",
     "exception": false,
     "start_time": "2022-07-20T08:45:21.491365",
     "status": "completed"
    },
    "tags": []
   },
   "outputs": [],
   "source": [
    "ham_wc = wc.generate(df[df['target']==0]['transformed_text'].str.cat(sep=\" \"))"
   ]
  },
  {
   "cell_type": "code",
   "execution_count": 47,
   "id": "c2623a78",
   "metadata": {
    "execution": {
     "iopub.execute_input": "2022-07-20T08:45:22.496259Z",
     "iopub.status.busy": "2022-07-20T08:45:22.495851Z",
     "iopub.status.idle": "2022-07-20T08:45:22.854305Z",
     "shell.execute_reply": "2022-07-20T08:45:22.853207Z"
    },
    "papermill": {
     "duration": 0.396836,
     "end_time": "2022-07-20T08:45:22.857752",
     "exception": false,
     "start_time": "2022-07-20T08:45:22.460916",
     "status": "completed"
    },
    "tags": []
   },
   "outputs": [
    {
     "data": {
      "text/plain": [
       "<matplotlib.image.AxesImage at 0x7f2741dedd10>"
      ]
     },
     "execution_count": 47,
     "metadata": {},
     "output_type": "execute_result"
    },
    {
     "data": {
      "image/png": "[encoded data removed]",
      "text/plain": [
       "<Figure size 864x432 with 1 Axes>"
      ]
     },
     "metadata": {
      "needs_background": "light"
     },
     "output_type": "display_data"
    }
   ],
   "source": [
    "plt.figure(figsize=(12,6))\n",
    "plt.imshow(ham_wc)"
   ]
  },
  {
   "cell_type": "code",
   "execution_count": 48,
   "id": "9147444a",
   "metadata": {
    "execution": {
     "iopub.execute_input": "2022-07-20T08:45:22.932791Z",
     "iopub.status.busy": "2022-07-20T08:45:22.931627Z",
     "iopub.status.idle": "2022-07-20T08:45:22.944825Z",
     "shell.execute_reply": "2022-07-20T08:45:22.943518Z"
    },
    "papermill": {
     "duration": 0.052841,
     "end_time": "2022-07-20T08:45:22.947127",
     "exception": false,
     "start_time": "2022-07-20T08:45:22.894286",
     "status": "completed"
    },
    "tags": []
   },
   "outputs": [
    {
     "data": {
      "text/html": [
       "<div>\n",
       "<style scoped>\n",
       "    .dataframe tbody tr th:only-of-type {\n",
       "        vertical-align: middle;\n",
       "    }\n",
       "\n",
       "    .dataframe tbody tr th {\n",
       "        vertical-align: top;\n",
       "    }\n",
       "\n",
       "    .dataframe thead th {\n",
       "        text-align: right;\n",
       "    }\n",
       "</style>\n",
       "<table border=\"1\" class=\"dataframe\">\n",
       "  <thead>\n",
       "    <tr style=\"text-align: right;\">\n",
       "      <th></th>\n",
       "      <th>target</th>\n",
       "      <th>text</th>\n",
       "      <th>num_characters</th>\n",
       "      <th>num_words</th>\n",
       "      <th>num_sentences</th>\n",
       "      <th>transformed_text</th>\n",
       "    </tr>\n",
       "  </thead>\n",
       "  <tbody>\n",
       "    <tr>\n",
       "      <th>0</th>\n",
       "      <td>0</td>\n",
       "      <td>Go until jurong point, crazy.. Available only ...</td>\n",
       "      <td>111</td>\n",
       "      <td>23</td>\n",
       "      <td>2</td>\n",
       "      <td>go jurong point avail bugi n great world la e ...</td>\n",
       "    </tr>\n",
       "    <tr>\n",
       "      <th>1</th>\n",
       "      <td>0</td>\n",
       "      <td>Ok lar... Joking wif u oni...</td>\n",
       "      <td>29</td>\n",
       "      <td>8</td>\n",
       "      <td>2</td>\n",
       "      <td>ok lar joke wif u oni</td>\n",
       "    </tr>\n",
       "    <tr>\n",
       "      <th>2</th>\n",
       "      <td>1</td>\n",
       "      <td>Free entry in 2 a wkly comp to win FA Cup fina...</td>\n",
       "      <td>155</td>\n",
       "      <td>37</td>\n",
       "      <td>2</td>\n",
       "      <td>free entri 2 wkli comp win fa cup final tkt 21...</td>\n",
       "    </tr>\n",
       "    <tr>\n",
       "      <th>3</th>\n",
       "      <td>0</td>\n",
       "      <td>U dun say so early hor... U c already then say...</td>\n",
       "      <td>49</td>\n",
       "      <td>13</td>\n",
       "      <td>1</td>\n",
       "      <td>u dun say earli hor u c alreadi say</td>\n",
       "    </tr>\n",
       "    <tr>\n",
       "      <th>4</th>\n",
       "      <td>0</td>\n",
       "      <td>Nah I don't think he goes to usf, he lives aro...</td>\n",
       "      <td>61</td>\n",
       "      <td>15</td>\n",
       "      <td>1</td>\n",
       "      <td>nah think goe usf live around though</td>\n",
       "    </tr>\n",
       "  </tbody>\n",
       "</table>\n",
       "</div>"
      ],
      "text/plain": [
       "   target                                               text  num_characters  \\\n",
       "0       0  Go until jurong point, crazy.. Available only ...             111   \n",
       "1       0                      Ok lar... Joking wif u oni...              29   \n",
       "2       1  Free entry in 2 a wkly comp to win FA Cup fina...             155   \n",
       "3       0  U dun say so early hor... U c already then say...              49   \n",
       "4       0  Nah I don't think he goes to usf, he lives aro...              61   \n",
       "\n",
       "   num_words  num_sentences                                   transformed_text  \n",
       "0         23              2  go jurong point avail bugi n great world la e ...  \n",
       "1          8              2                              ok lar joke wif u oni  \n",
       "2         37              2  free entri 2 wkli comp win fa cup final tkt 21...  \n",
       "3         13              1                u dun say earli hor u c alreadi say  \n",
       "4         15              1               nah think goe usf live around though  "
      ]
     },
     "execution_count": 48,
     "metadata": {},
     "output_type": "execute_result"
    }
   ],
   "source": [
    "df.head()"
   ]
  },
  {
   "cell_type": "code",
   "execution_count": 49,
   "id": "e2a4ba64",
   "metadata": {
    "execution": {
     "iopub.execute_input": "2022-07-20T08:45:23.021454Z",
     "iopub.status.busy": "2022-07-20T08:45:23.020594Z",
     "iopub.status.idle": "2022-07-20T08:45:23.029545Z",
     "shell.execute_reply": "2022-07-20T08:45:23.028711Z"
    },
    "papermill": {
     "duration": 0.048949,
     "end_time": "2022-07-20T08:45:23.032014",
     "exception": false,
     "start_time": "2022-07-20T08:45:22.983065",
     "status": "completed"
    },
    "tags": []
   },
   "outputs": [],
   "source": [
    "spam_corpus = []\n",
    "for msg in df[df['target']==1]['transformed_text'].tolist():\n",
    "    for word in msg.split():\n",
    "        spam_corpus.append(word)"
   ]
  },
  {
   "cell_type": "code",
   "execution_count": 50,
   "id": "244971e0",
   "metadata": {
    "execution": {
     "iopub.execute_input": "2022-07-20T08:45:23.106087Z",
     "iopub.status.busy": "2022-07-20T08:45:23.105294Z",
     "iopub.status.idle": "2022-07-20T08:45:23.111705Z",
     "shell.execute_reply": "2022-07-20T08:45:23.110899Z"
    },
    "papermill": {
     "duration": 0.045777,
     "end_time": "2022-07-20T08:45:23.113727",
     "exception": false,
     "start_time": "2022-07-20T08:45:23.067950",
     "status": "completed"
    },
    "tags": []
   },
   "outputs": [
    {
     "data": {
      "text/plain": [
       "9883"
      ]
     },
     "execution_count": 50,
     "metadata": {},
     "output_type": "execute_result"
    }
   ],
   "source": [
    "len(spam_corpus)"
   ]
  },
  {
   "cell_type": "code",
   "execution_count": 51,
   "id": "e08e3ae2",
   "metadata": {
    "execution": {
     "iopub.execute_input": "2022-07-20T08:45:23.189154Z",
     "iopub.status.busy": "2022-07-20T08:45:23.188445Z",
     "iopub.status.idle": "2022-07-20T08:45:23.556294Z",
     "shell.execute_reply": "2022-07-20T08:45:23.555223Z"
    },
    "papermill": {
     "duration": 0.40803,
     "end_time": "2022-07-20T08:45:23.558627",
     "exception": false,
     "start_time": "2022-07-20T08:45:23.150597",
     "status": "completed"
    },
    "tags": []
   },
   "outputs": [
    {
     "name": "stderr",
     "output_type": "stream",
     "text": [
      "/opt/conda/lib/python3.7/site-packages/seaborn/_decorators.py:43: FutureWarning: Pass the following variables as keyword args: x, y. From version 0.12, the only valid positional argument will be `data`, and passing other arguments without an explicit keyword will result in an error or misinterpretation.\n",
      "  FutureWarning\n"
     ]
    },
    {
     "data": {
      "image/png": "[encoded data removed]",
      "text/plain": [
       "<Figure size 432x288 with 1 Axes>"
      ]
     },
     "metadata": {
      "needs_background": "light"
     },
     "output_type": "display_data"
    }
   ],
   "source": [
    "from collections import Counter\n",
    "sns.barplot(pd.DataFrame(Counter(spam_corpus).most_common(30))[0],pd.DataFrame(Counter(spam_corpus).most_common(30))[1])\n",
    "plt.xticks(rotation = 'vertical')\n",
    "plt.show()"
   ]
  },
  {
   "cell_type": "code",
   "execution_count": 52,
   "id": "4f3cd940",
   "metadata": {
    "execution": {
     "iopub.execute_input": "2022-07-20T08:45:23.634966Z",
     "iopub.status.busy": "2022-07-20T08:45:23.634044Z",
     "iopub.status.idle": "2022-07-20T08:45:23.648990Z",
     "shell.execute_reply": "2022-07-20T08:45:23.647833Z"
    },
    "papermill": {
     "duration": 0.055933,
     "end_time": "2022-07-20T08:45:23.651530",
     "exception": false,
     "start_time": "2022-07-20T08:45:23.595597",
     "status": "completed"
    },
    "tags": []
   },
   "outputs": [],
   "source": [
    "ham_corpus = []\n",
    "for msg in df[df['target']==0]['transformed_text'].tolist():\n",
    "    for word in msg.split():\n",
    "        ham_corpus.append(word)"
   ]
  },
  {
   "cell_type": "code",
   "execution_count": 53,
   "id": "d1a7d702",
   "metadata": {
    "execution": {
     "iopub.execute_input": "2022-07-20T08:45:23.727701Z",
     "iopub.status.busy": "2022-07-20T08:45:23.727263Z",
     "iopub.status.idle": "2022-07-20T08:45:23.734210Z",
     "shell.execute_reply": "2022-07-20T08:45:23.733132Z"
    },
    "papermill": {
     "duration": 0.048043,
     "end_time": "2022-07-20T08:45:23.736418",
     "exception": false,
     "start_time": "2022-07-20T08:45:23.688375",
     "status": "completed"
    },
    "tags": []
   },
   "outputs": [
    {
     "data": {
      "text/plain": [
       "34771"
      ]
     },
     "execution_count": 53,
     "metadata": {},
     "output_type": "execute_result"
    }
   ],
   "source": [
    "len(ham_corpus)"
   ]
  },
  {
   "cell_type": "code",
   "execution_count": 54,
   "id": "048b2192",
   "metadata": {
    "execution": {
     "iopub.execute_input": "2022-07-20T08:45:23.811830Z",
     "iopub.status.busy": "2022-07-20T08:45:23.811392Z",
     "iopub.status.idle": "2022-07-20T08:45:24.180702Z",
     "shell.execute_reply": "2022-07-20T08:45:24.179505Z"
    },
    "papermill": {
     "duration": 0.410132,
     "end_time": "2022-07-20T08:45:24.183282",
     "exception": false,
     "start_time": "2022-07-20T08:45:23.773150",
     "status": "completed"
    },
    "tags": []
   },
   "outputs": [
    {
     "name": "stderr",
     "output_type": "stream",
     "text": [
      "/opt/conda/lib/python3.7/site-packages/seaborn/_decorators.py:43: FutureWarning: Pass the following variables as keyword args: x, y. From version 0.12, the only valid positional argument will be `data`, and passing other arguments without an explicit keyword will result in an error or misinterpretation.\n",
      "  FutureWarning\n"
     ]
    },
    {
     "data": {
      "image/png": "[encoded data removed]",
      "text/plain": [
       "<Figure size 432x288 with 1 Axes>"
      ]
     },
     "metadata": {
      "needs_background": "light"
     },
     "output_type": "display_data"
    }
   ],
   "source": [
    "from collections import Counter\n",
    "sns.barplot(pd.DataFrame(Counter(ham_corpus).most_common(30))[0],pd.DataFrame(Counter(ham_corpus).most_common(30))[1])\n",
    "plt.xticks(rotation = 'vertical')\n",
    "plt.show()"
   ]
  },
  {
   "cell_type": "markdown",
   "id": "d33655ad",
   "metadata": {
    "papermill": {
     "duration": 0.03703,
     "end_time": "2022-07-20T08:45:24.257876",
     "exception": false,
     "start_time": "2022-07-20T08:45:24.220846",
     "status": "completed"
    },
    "tags": []
   },
   "source": [
    "# Model Building"
   ]
  },
  {
   "cell_type": "code",
   "execution_count": 55,
   "id": "b79b1d10",
   "metadata": {
    "execution": {
     "iopub.execute_input": "2022-07-20T08:45:24.334405Z",
     "iopub.status.busy": "2022-07-20T08:45:24.333809Z",
     "iopub.status.idle": "2022-07-20T08:45:24.338581Z",
     "shell.execute_reply": "2022-07-20T08:45:24.337785Z"
    },
    "papermill": {
     "duration": 0.045729,
     "end_time": "2022-07-20T08:45:24.340767",
     "exception": false,
     "start_time": "2022-07-20T08:45:24.295038",
     "status": "completed"
    },
    "tags": []
   },
   "outputs": [],
   "source": [
    "from sklearn.feature_extraction.text import CountVectorizer,TfidfVectorizer\n",
    "cv = CountVectorizer()\n",
    "tfidf = TfidfVectorizer(max_features = 3000)"
   ]
  },
  {
   "cell_type": "code",
   "execution_count": 56,
   "id": "6763a57b",
   "metadata": {
    "execution": {
     "iopub.execute_input": "2022-07-20T08:45:24.417268Z",
     "iopub.status.busy": "2022-07-20T08:45:24.416275Z",
     "iopub.status.idle": "2022-07-20T08:45:24.775047Z",
     "shell.execute_reply": "2022-07-20T08:45:24.773902Z"
    },
    "papermill": {
     "duration": 0.399824,
     "end_time": "2022-07-20T08:45:24.777526",
     "exception": false,
     "start_time": "2022-07-20T08:45:24.377702",
     "status": "completed"
    },
    "tags": []
   },
   "outputs": [
    {
     "data": {
      "text/plain": [
       "array([[0., 0., 0., ..., 0., 0., 0.],\n",
       "       [0., 0., 0., ..., 0., 0., 0.],\n",
       "       [0., 0., 0., ..., 0., 0., 0.],\n",
       "       ...,\n",
       "       [0., 0., 0., ..., 0., 0., 0.],\n",
       "       [0., 0., 0., ..., 0., 0., 0.],\n",
       "       [0., 0., 0., ..., 0., 0., 0.]])"
      ]
     },
     "execution_count": 56,
     "metadata": {},
     "output_type": "execute_result"
    }
   ],
   "source": [
    "X = tfidf.fit_transform(df['transformed_text']).toarray()\n",
    "X"
   ]
  },
  {
   "cell_type": "code",
   "execution_count": 57,
   "id": "c791414f",
   "metadata": {
    "execution": {
     "iopub.execute_input": "2022-07-20T08:45:24.853713Z",
     "iopub.status.busy": "2022-07-20T08:45:24.853024Z",
     "iopub.status.idle": "2022-07-20T08:45:24.856781Z",
     "shell.execute_reply": "2022-07-20T08:45:24.855993Z"
    },
    "papermill": {
     "duration": 0.044241,
     "end_time": "2022-07-20T08:45:24.858824",
     "exception": false,
     "start_time": "2022-07-20T08:45:24.814583",
     "status": "completed"
    },
    "tags": []
   },
   "outputs": [],
   "source": [
    "#from sklearn.preprocessing import MinMaxScaler\n",
    "#scaler = MinMaxScaler()\n",
    "#X = scaler.fit_transform(X)\n",
    "#X = np.hstack((X,df['num_characters'].values.reshape(-1,1)))"
   ]
  },
  {
   "cell_type": "code",
   "execution_count": 58,
   "id": "95a0455f",
   "metadata": {
    "execution": {
     "iopub.execute_input": "2022-07-20T08:45:24.935909Z",
     "iopub.status.busy": "2022-07-20T08:45:24.935078Z",
     "iopub.status.idle": "2022-07-20T08:45:24.941614Z",
     "shell.execute_reply": "2022-07-20T08:45:24.940867Z"
    },
    "papermill": {
     "duration": 0.047365,
     "end_time": "2022-07-20T08:45:24.943669",
     "exception": false,
     "start_time": "2022-07-20T08:45:24.896304",
     "status": "completed"
    },
    "tags": []
   },
   "outputs": [
    {
     "data": {
      "text/plain": [
       "(5169, 3000)"
      ]
     },
     "execution_count": 58,
     "metadata": {},
     "output_type": "execute_result"
    }
   ],
   "source": [
    "X.shape"
   ]
  },
  {
   "cell_type": "code",
   "execution_count": 59,
   "id": "a34b76f8",
   "metadata": {
    "execution": {
     "iopub.execute_input": "2022-07-20T08:45:25.020299Z",
     "iopub.status.busy": "2022-07-20T08:45:25.019708Z",
     "iopub.status.idle": "2022-07-20T08:45:25.025420Z",
     "shell.execute_reply": "2022-07-20T08:45:25.024694Z"
    },
    "papermill": {
     "duration": 0.046616,
     "end_time": "2022-07-20T08:45:25.027493",
     "exception": false,
     "start_time": "2022-07-20T08:45:24.980877",
     "status": "completed"
    },
    "tags": []
   },
   "outputs": [
    {
     "data": {
      "text/plain": [
       "array([0, 0, 1, ..., 0, 0, 0])"
      ]
     },
     "execution_count": 59,
     "metadata": {},
     "output_type": "execute_result"
    }
   ],
   "source": [
    "Y = df['target'].values\n",
    "Y"
   ]
  },
  {
   "cell_type": "code",
   "execution_count": 60,
   "id": "6c5599ab",
   "metadata": {
    "execution": {
     "iopub.execute_input": "2022-07-20T08:45:25.104109Z",
     "iopub.status.busy": "2022-07-20T08:45:25.103495Z",
     "iopub.status.idle": "2022-07-20T08:45:25.107653Z",
     "shell.execute_reply": "2022-07-20T08:45:25.106896Z"
    },
    "papermill": {
     "duration": 0.044925,
     "end_time": "2022-07-20T08:45:25.109777",
     "exception": false,
     "start_time": "2022-07-20T08:45:25.064852",
     "status": "completed"
    },
    "tags": []
   },
   "outputs": [],
   "source": [
    "from sklearn.model_selection import train_test_split"
   ]
  },
  {
   "cell_type": "code",
   "execution_count": 61,
   "id": "dd20aae8",
   "metadata": {
    "execution": {
     "iopub.execute_input": "2022-07-20T08:45:25.186779Z",
     "iopub.status.busy": "2022-07-20T08:45:25.186197Z",
     "iopub.status.idle": "2022-07-20T08:45:25.244957Z",
     "shell.execute_reply": "2022-07-20T08:45:25.243926Z"
    },
    "papermill": {
     "duration": 0.100021,
     "end_time": "2022-07-20T08:45:25.247331",
     "exception": false,
     "start_time": "2022-07-20T08:45:25.147310",
     "status": "completed"
    },
    "tags": []
   },
   "outputs": [],
   "source": [
    "  X_train,X_test,Y_train,Y_test = train_test_split(X,Y,test_size = 0.2,random_state=2)"
   ]
  },
  {
   "cell_type": "code",
   "execution_count": 62,
   "id": "db802d15",
   "metadata": {
    "execution": {
     "iopub.execute_input": "2022-07-20T08:45:25.324242Z",
     "iopub.status.busy": "2022-07-20T08:45:25.323635Z",
     "iopub.status.idle": "2022-07-20T08:45:25.330483Z",
     "shell.execute_reply": "2022-07-20T08:45:25.329632Z"
    },
    "papermill": {
     "duration": 0.048224,
     "end_time": "2022-07-20T08:45:25.332754",
     "exception": false,
     "start_time": "2022-07-20T08:45:25.284530",
     "status": "completed"
    },
    "tags": []
   },
   "outputs": [],
   "source": [
    "from sklearn.naive_bayes import GaussianNB,MultinomialNB,BernoulliNB\n",
    "from sklearn.metrics import accuracy_score,confusion_matrix,precision_score"
   ]
  },
  {
   "cell_type": "code",
   "execution_count": 63,
   "id": "5a883d77",
   "metadata": {
    "execution": {
     "iopub.execute_input": "2022-07-20T08:45:25.409508Z",
     "iopub.status.busy": "2022-07-20T08:45:25.409113Z",
     "iopub.status.idle": "2022-07-20T08:45:25.414924Z",
     "shell.execute_reply": "2022-07-20T08:45:25.413714Z"
    },
    "papermill": {
     "duration": 0.047364,
     "end_time": "2022-07-20T08:45:25.417479",
     "exception": false,
     "start_time": "2022-07-20T08:45:25.370115",
     "status": "completed"
    },
    "tags": []
   },
   "outputs": [],
   "source": [
    "gnb = GaussianNB()\n",
    "mnb = MultinomialNB()\n",
    "bnb = BernoulliNB()"
   ]
  },
  {
   "cell_type": "code",
   "execution_count": 64,
   "id": "9921581c",
   "metadata": {
    "execution": {
     "iopub.execute_input": "2022-07-20T08:45:25.499027Z",
     "iopub.status.busy": "2022-07-20T08:45:25.498619Z",
     "iopub.status.idle": "2022-07-20T08:45:25.747897Z",
     "shell.execute_reply": "2022-07-20T08:45:25.746442Z"
    },
    "papermill": {
     "duration": 0.290628,
     "end_time": "2022-07-20T08:45:25.750246",
     "exception": false,
     "start_time": "2022-07-20T08:45:25.459618",
     "status": "completed"
    },
    "tags": []
   },
   "outputs": [
    {
     "name": "stdout",
     "output_type": "stream",
     "text": [
      "0.867504835589942\n",
      "[[785 111]\n",
      " [ 26 112]]\n",
      "0.5022421524663677\n"
     ]
    }
   ],
   "source": [
    "gnb.fit(X_train,Y_train)\n",
    "Y_pred1 = gnb.predict(X_test)\n",
    "print(accuracy_score(Y_test,Y_pred1))\n",
    "print(confusion_matrix(Y_test,Y_pred1))\n",
    "print(precision_score(Y_test,Y_pred1))"
   ]
  },
  {
   "cell_type": "code",
   "execution_count": 65,
   "id": "6d890570",
   "metadata": {
    "execution": {
     "iopub.execute_input": "2022-07-20T08:45:25.828316Z",
     "iopub.status.busy": "2022-07-20T08:45:25.827685Z",
     "iopub.status.idle": "2022-07-20T08:45:25.883995Z",
     "shell.execute_reply": "2022-07-20T08:45:25.882688Z"
    },
    "papermill": {
     "duration": 0.099779,
     "end_time": "2022-07-20T08:45:25.888536",
     "exception": false,
     "start_time": "2022-07-20T08:45:25.788757",
     "status": "completed"
    },
    "tags": []
   },
   "outputs": [
    {
     "name": "stdout",
     "output_type": "stream",
     "text": [
      "0.9729206963249516\n",
      "[[896   0]\n",
      " [ 28 110]]\n",
      "1.0\n"
     ]
    }
   ],
   "source": [
    "mnb.fit(X_train,Y_train)\n",
    "Y_pred2 = mnb.predict(X_test)\n",
    "print(accuracy_score(Y_test,Y_pred2))\n",
    "print(confusion_matrix(Y_test,Y_pred2))\n",
    "print(precision_score(Y_test,Y_pred2))"
   ]
  },
  {
   "cell_type": "code",
   "execution_count": 66,
   "id": "9d724c88",
   "metadata": {
    "execution": {
     "iopub.execute_input": "2022-07-20T08:45:26.014763Z",
     "iopub.status.busy": "2022-07-20T08:45:26.014367Z",
     "iopub.status.idle": "2022-07-20T08:45:26.184429Z",
     "shell.execute_reply": "2022-07-20T08:45:26.183087Z"
    },
    "papermill": {
     "duration": 0.231263,
     "end_time": "2022-07-20T08:45:26.188670",
     "exception": false,
     "start_time": "2022-07-20T08:45:25.957407",
     "status": "completed"
    },
    "tags": []
   },
   "outputs": [
    {
     "name": "stdout",
     "output_type": "stream",
     "text": [
      "0.9816247582205029\n",
      "[[895   1]\n",
      " [ 18 120]]\n",
      "0.9917355371900827\n"
     ]
    }
   ],
   "source": [
    "bnb.fit(X_train,Y_train)\n",
    "Y_pred3 = bnb.predict(X_test)\n",
    "print(accuracy_score(Y_test,Y_pred3))\n",
    "print(confusion_matrix(Y_test,Y_pred3))\n",
    "print(precision_score(Y_test,Y_pred3))"
   ]
  },
  {
   "cell_type": "code",
   "execution_count": 67,
   "id": "7c4e391d",
   "metadata": {
    "execution": {
     "iopub.execute_input": "2022-07-20T08:45:26.312628Z",
     "iopub.status.busy": "2022-07-20T08:45:26.311898Z",
     "iopub.status.idle": "2022-07-20T08:45:26.316802Z",
     "shell.execute_reply": "2022-07-20T08:45:26.315657Z"
    },
    "papermill": {
     "duration": 0.062012,
     "end_time": "2022-07-20T08:45:26.319022",
     "exception": false,
     "start_time": "2022-07-20T08:45:26.257010",
     "status": "completed"
    },
    "tags": []
   },
   "outputs": [],
   "source": [
    "#using Multinomial Naive Bayes because of its high precision"
   ]
  },
  {
   "cell_type": "code",
   "execution_count": 68,
   "id": "d89824dc",
   "metadata": {
    "execution": {
     "iopub.execute_input": "2022-07-20T08:45:26.396174Z",
     "iopub.status.busy": "2022-07-20T08:45:26.394922Z",
     "iopub.status.idle": "2022-07-20T08:45:26.614866Z",
     "shell.execute_reply": "2022-07-20T08:45:26.613729Z"
    },
    "papermill": {
     "duration": 0.261381,
     "end_time": "2022-07-20T08:45:26.617721",
     "exception": false,
     "start_time": "2022-07-20T08:45:26.356340",
     "status": "completed"
    },
    "tags": []
   },
   "outputs": [],
   "source": [
    "from sklearn.linear_model import LogisticRegression\n",
    "from sklearn.svm import SVC\n",
    "from sklearn.naive_bayes import MultinomialNB\n",
    "from sklearn.tree import DecisionTreeClassifier\n",
    "from sklearn.neighbors import KNeighborsClassifier\n",
    "from sklearn.ensemble import RandomForestClassifier\n",
    "from sklearn.ensemble import AdaBoostClassifier\n",
    "from sklearn.ensemble import BaggingClassifier\n",
    "from sklearn.ensemble import ExtraTreesClassifier\n",
    "from sklearn.ensemble import GradientBoostingClassifier\n",
    "from xgboost import XGBClassifier"
   ]
  },
  {
   "cell_type": "code",
   "execution_count": 69,
   "id": "0ea77c95",
   "metadata": {
    "execution": {
     "iopub.execute_input": "2022-07-20T08:45:26.695338Z",
     "iopub.status.busy": "2022-07-20T08:45:26.694269Z",
     "iopub.status.idle": "2022-07-20T08:45:26.702214Z",
     "shell.execute_reply": "2022-07-20T08:45:26.701449Z"
    },
    "papermill": {
     "duration": 0.048855,
     "end_time": "2022-07-20T08:45:26.704378",
     "exception": false,
     "start_time": "2022-07-20T08:45:26.655523",
     "status": "completed"
    },
    "tags": []
   },
   "outputs": [],
   "source": [
    "svc = SVC(kernel = 'sigmoid',gamma =1.0)\n",
    "knc = KNeighborsClassifier()\n",
    "mnb = MultinomialNB()\n",
    "dtc = DecisionTreeClassifier(max_depth = 5)\n",
    "lrc = LogisticRegression(solver = 'liblinear',penalty ='l1')\n",
    "rfc = RandomForestClassifier(n_estimators = 50,random_state = 2)\n",
    "abc = AdaBoostClassifier(n_estimators = 50,random_state = 2)\n",
    "bc = BaggingClassifier(n_estimators = 50,random_state = 2)\n",
    "etc = ExtraTreesClassifier(n_estimators = 50, random_state = 2)\n",
    "gbdt = GradientBoostingClassifier(n_estimators = 50,random_state = 2)\n",
    "xgb = XGBClassifier(n_estimators = 50,random_state = 2)"
   ]
  },
  {
   "cell_type": "code",
   "execution_count": 70,
   "id": "ca8906a7",
   "metadata": {
    "execution": {
     "iopub.execute_input": "2022-07-20T08:45:26.781372Z",
     "iopub.status.busy": "2022-07-20T08:45:26.780588Z",
     "iopub.status.idle": "2022-07-20T08:45:26.786167Z",
     "shell.execute_reply": "2022-07-20T08:45:26.785135Z"
    },
    "papermill": {
     "duration": 0.046536,
     "end_time": "2022-07-20T08:45:26.788333",
     "exception": false,
     "start_time": "2022-07-20T08:45:26.741797",
     "status": "completed"
    },
    "tags": []
   },
   "outputs": [],
   "source": [
    "clfs = {\n",
    "    'SVC':svc,\n",
    "    'KN':knc,\n",
    "    'NB':mnb,\n",
    "    'DT':dtc,\n",
    "    'LR':lrc,\n",
    "    'RF':rfc,\n",
    "    'AdaBoost':abc,\n",
    "    'BgC':bc,\n",
    "    'ETC':etc,\n",
    "    'GBDT':gbdt,\n",
    "    'xgb':xgb\n",
    "}"
   ]
  },
  {
   "cell_type": "code",
   "execution_count": 71,
   "id": "2383d1dd",
   "metadata": {
    "execution": {
     "iopub.execute_input": "2022-07-20T08:45:26.864995Z",
     "iopub.status.busy": "2022-07-20T08:45:26.863934Z",
     "iopub.status.idle": "2022-07-20T08:45:26.870479Z",
     "shell.execute_reply": "2022-07-20T08:45:26.869721Z"
    },
    "papermill": {
     "duration": 0.04726,
     "end_time": "2022-07-20T08:45:26.872725",
     "exception": false,
     "start_time": "2022-07-20T08:45:26.825465",
     "status": "completed"
    },
    "tags": []
   },
   "outputs": [],
   "source": [
    "def train_classifier(clf,X_train,Y_train,X_test,Y_test):\n",
    "    clf.fit(X_train,Y_train)\n",
    "    Y_pred = clf.predict(X_test)\n",
    "    accuracy = accuracy_score(Y_test,Y_pred)\n",
    "    precision = precision_score(Y_test,Y_pred)\n",
    "    return accuracy,precision"
   ]
  },
  {
   "cell_type": "code",
   "execution_count": 72,
   "id": "75856cd9",
   "metadata": {
    "execution": {
     "iopub.execute_input": "2022-07-20T08:45:26.949972Z",
     "iopub.status.busy": "2022-07-20T08:45:26.949245Z",
     "iopub.status.idle": "2022-07-20T08:45:35.448872Z",
     "shell.execute_reply": "2022-07-20T08:45:35.447711Z"
    },
    "papermill": {
     "duration": 8.541587,
     "end_time": "2022-07-20T08:45:35.451310",
     "exception": false,
     "start_time": "2022-07-20T08:45:26.909723",
     "status": "completed"
    },
    "tags": []
   },
   "outputs": [
    {
     "data": {
      "text/plain": [
       "(0.9748549323017408, 0.9666666666666667)"
      ]
     },
     "execution_count": 72,
     "metadata": {},
     "output_type": "execute_result"
    }
   ],
   "source": [
    "train_classifier(svc,X_train,Y_train,X_test,Y_test)"
   ]
  },
  {
   "cell_type": "code",
   "execution_count": 73,
   "id": "1b03a447",
   "metadata": {
    "execution": {
     "iopub.execute_input": "2022-07-20T08:45:35.529958Z",
     "iopub.status.busy": "2022-07-20T08:45:35.529162Z",
     "iopub.status.idle": "2022-07-20T08:47:36.055964Z",
     "shell.execute_reply": "2022-07-20T08:47:36.054764Z"
    },
    "papermill": {
     "duration": 120.571258,
     "end_time": "2022-07-20T08:47:36.060111",
     "exception": false,
     "start_time": "2022-07-20T08:45:35.488853",
     "status": "completed"
    },
    "tags": []
   },
   "outputs": [
    {
     "name": "stdout",
     "output_type": "stream",
     "text": [
      "For  SVC\n",
      "Accuracy =  0.9748549323017408\n",
      "Precision = 0.9666666666666667\n",
      "For  KN\n",
      "Accuracy =  0.9052224371373307\n",
      "Precision = 1.0\n",
      "For  NB\n",
      "Accuracy =  0.9729206963249516\n",
      "Precision = 1.0\n",
      "For  DT\n",
      "Accuracy =  0.9323017408123792\n",
      "Precision = 0.8333333333333334\n",
      "For  LR\n",
      "Accuracy =  0.9574468085106383\n",
      "Precision = 0.9519230769230769\n",
      "For  RF\n",
      "Accuracy =  0.971953578336557\n",
      "Precision = 0.9739130434782609\n",
      "For  AdaBoost\n",
      "Accuracy =  0.9642166344294004\n",
      "Precision = 0.9316239316239316\n",
      "For  BgC\n",
      "Accuracy =  0.9545454545454546\n",
      "Precision = 0.8527131782945736\n",
      "For  ETC\n",
      "Accuracy =  0.9777562862669246\n",
      "Precision = 0.9831932773109243\n",
      "For  GBDT\n",
      "Accuracy =  0.9487427466150871\n",
      "Precision = 0.9292929292929293\n",
      "For  xgb\n",
      "Accuracy =  0.9690522243713733\n",
      "Precision = 0.9416666666666667\n"
     ]
    }
   ],
   "source": [
    "accuracy_scores = []\n",
    "precision_scores = []\n",
    "\n",
    "for name,clf in clfs.items():\n",
    "    current_accuracy,current_precision = train_classifier(clf,X_train,Y_train,X_test,Y_test)\n",
    "    \n",
    "    print(\"For \",name)\n",
    "    print(\"Accuracy = \",current_accuracy)\n",
    "    print(\"Precision =\",current_precision)\n",
    "    \n",
    "    accuracy_scores.append(current_accuracy)\n",
    "    precision_scores.append(current_precision)"
   ]
  },
  {
   "cell_type": "code",
   "execution_count": 74,
   "id": "0c9fa538",
   "metadata": {
    "execution": {
     "iopub.execute_input": "2022-07-20T08:47:36.140534Z",
     "iopub.status.busy": "2022-07-20T08:47:36.140108Z",
     "iopub.status.idle": "2022-07-20T08:47:36.148663Z",
     "shell.execute_reply": "2022-07-20T08:47:36.147354Z"
    },
    "papermill": {
     "duration": 0.050964,
     "end_time": "2022-07-20T08:47:36.151062",
     "exception": false,
     "start_time": "2022-07-20T08:47:36.100098",
     "status": "completed"
    },
    "tags": []
   },
   "outputs": [],
   "source": [
    "performance_df = pd.DataFrame({'Algorithm':clfs.keys(),'Accuracy':accuracy_scores,'Precision':precision_scores}).sort_values('Precision',ascending = False)"
   ]
  },
  {
   "cell_type": "code",
   "execution_count": 75,
   "id": "7367a1c4",
   "metadata": {
    "execution": {
     "iopub.execute_input": "2022-07-20T08:47:36.231713Z",
     "iopub.status.busy": "2022-07-20T08:47:36.230928Z",
     "iopub.status.idle": "2022-07-20T08:47:36.243762Z",
     "shell.execute_reply": "2022-07-20T08:47:36.242663Z"
    },
    "papermill": {
     "duration": 0.055154,
     "end_time": "2022-07-20T08:47:36.246075",
     "exception": false,
     "start_time": "2022-07-20T08:47:36.190921",
     "status": "completed"
    },
    "tags": []
   },
   "outputs": [
    {
     "data": {
      "text/html": [
       "<div>\n",
       "<style scoped>\n",
       "    .dataframe tbody tr th:only-of-type {\n",
       "        vertical-align: middle;\n",
       "    }\n",
       "\n",
       "    .dataframe tbody tr th {\n",
       "        vertical-align: top;\n",
       "    }\n",
       "\n",
       "    .dataframe thead th {\n",
       "        text-align: right;\n",
       "    }\n",
       "</style>\n",
       "<table border=\"1\" class=\"dataframe\">\n",
       "  <thead>\n",
       "    <tr style=\"text-align: right;\">\n",
       "      <th></th>\n",
       "      <th>Algorithm</th>\n",
       "      <th>Accuracy</th>\n",
       "      <th>Precision</th>\n",
       "    </tr>\n",
       "  </thead>\n",
       "  <tbody>\n",
       "    <tr>\n",
       "      <th>1</th>\n",
       "      <td>KN</td>\n",
       "      <td>0.905222</td>\n",
       "      <td>1.000000</td>\n",
       "    </tr>\n",
       "    <tr>\n",
       "      <th>2</th>\n",
       "      <td>NB</td>\n",
       "      <td>0.972921</td>\n",
       "      <td>1.000000</td>\n",
       "    </tr>\n",
       "    <tr>\n",
       "      <th>8</th>\n",
       "      <td>ETC</td>\n",
       "      <td>0.977756</td>\n",
       "      <td>0.983193</td>\n",
       "    </tr>\n",
       "    <tr>\n",
       "      <th>5</th>\n",
       "      <td>RF</td>\n",
       "      <td>0.971954</td>\n",
       "      <td>0.973913</td>\n",
       "    </tr>\n",
       "    <tr>\n",
       "      <th>0</th>\n",
       "      <td>SVC</td>\n",
       "      <td>0.974855</td>\n",
       "      <td>0.966667</td>\n",
       "    </tr>\n",
       "    <tr>\n",
       "      <th>4</th>\n",
       "      <td>LR</td>\n",
       "      <td>0.957447</td>\n",
       "      <td>0.951923</td>\n",
       "    </tr>\n",
       "    <tr>\n",
       "      <th>10</th>\n",
       "      <td>xgb</td>\n",
       "      <td>0.969052</td>\n",
       "      <td>0.941667</td>\n",
       "    </tr>\n",
       "    <tr>\n",
       "      <th>6</th>\n",
       "      <td>AdaBoost</td>\n",
       "      <td>0.964217</td>\n",
       "      <td>0.931624</td>\n",
       "    </tr>\n",
       "    <tr>\n",
       "      <th>9</th>\n",
       "      <td>GBDT</td>\n",
       "      <td>0.948743</td>\n",
       "      <td>0.929293</td>\n",
       "    </tr>\n",
       "    <tr>\n",
       "      <th>7</th>\n",
       "      <td>BgC</td>\n",
       "      <td>0.954545</td>\n",
       "      <td>0.852713</td>\n",
       "    </tr>\n",
       "    <tr>\n",
       "      <th>3</th>\n",
       "      <td>DT</td>\n",
       "      <td>0.932302</td>\n",
       "      <td>0.833333</td>\n",
       "    </tr>\n",
       "  </tbody>\n",
       "</table>\n",
       "</div>"
      ],
      "text/plain": [
       "   Algorithm  Accuracy  Precision\n",
       "1         KN  0.905222   1.000000\n",
       "2         NB  0.972921   1.000000\n",
       "8        ETC  0.977756   0.983193\n",
       "5         RF  0.971954   0.973913\n",
       "0        SVC  0.974855   0.966667\n",
       "4         LR  0.957447   0.951923\n",
       "10       xgb  0.969052   0.941667\n",
       "6   AdaBoost  0.964217   0.931624\n",
       "9       GBDT  0.948743   0.929293\n",
       "7        BgC  0.954545   0.852713\n",
       "3         DT  0.932302   0.833333"
      ]
     },
     "execution_count": 75,
     "metadata": {},
     "output_type": "execute_result"
    }
   ],
   "source": [
    "performance_df"
   ]
  },
  {
   "cell_type": "code",
   "execution_count": 76,
   "id": "043313dd",
   "metadata": {
    "execution": {
     "iopub.execute_input": "2022-07-20T08:47:36.325489Z",
     "iopub.status.busy": "2022-07-20T08:47:36.324690Z",
     "iopub.status.idle": "2022-07-20T08:47:36.332319Z",
     "shell.execute_reply": "2022-07-20T08:47:36.331523Z"
    },
    "papermill": {
     "duration": 0.050185,
     "end_time": "2022-07-20T08:47:36.334613",
     "exception": false,
     "start_time": "2022-07-20T08:47:36.284428",
     "status": "completed"
    },
    "tags": []
   },
   "outputs": [],
   "source": [
    "performance_df1 = pd.melt(performance_df,id_vars = 'Algorithm')"
   ]
  },
  {
   "cell_type": "code",
   "execution_count": 77,
   "id": "42c93ce2",
   "metadata": {
    "execution": {
     "iopub.execute_input": "2022-07-20T08:47:36.414404Z",
     "iopub.status.busy": "2022-07-20T08:47:36.413974Z",
     "iopub.status.idle": "2022-07-20T08:47:36.427564Z",
     "shell.execute_reply": "2022-07-20T08:47:36.426389Z"
    },
    "papermill": {
     "duration": 0.056443,
     "end_time": "2022-07-20T08:47:36.429914",
     "exception": false,
     "start_time": "2022-07-20T08:47:36.373471",
     "status": "completed"
    },
    "tags": []
   },
   "outputs": [
    {
     "data": {
      "text/html": [
       "<div>\n",
       "<style scoped>\n",
       "    .dataframe tbody tr th:only-of-type {\n",
       "        vertical-align: middle;\n",
       "    }\n",
       "\n",
       "    .dataframe tbody tr th {\n",
       "        vertical-align: top;\n",
       "    }\n",
       "\n",
       "    .dataframe thead th {\n",
       "        text-align: right;\n",
       "    }\n",
       "</style>\n",
       "<table border=\"1\" class=\"dataframe\">\n",
       "  <thead>\n",
       "    <tr style=\"text-align: right;\">\n",
       "      <th></th>\n",
       "      <th>Algorithm</th>\n",
       "      <th>variable</th>\n",
       "      <th>value</th>\n",
       "    </tr>\n",
       "  </thead>\n",
       "  <tbody>\n",
       "    <tr>\n",
       "      <th>0</th>\n",
       "      <td>KN</td>\n",
       "      <td>Accuracy</td>\n",
       "      <td>0.905222</td>\n",
       "    </tr>\n",
       "    <tr>\n",
       "      <th>1</th>\n",
       "      <td>NB</td>\n",
       "      <td>Accuracy</td>\n",
       "      <td>0.972921</td>\n",
       "    </tr>\n",
       "    <tr>\n",
       "      <th>2</th>\n",
       "      <td>ETC</td>\n",
       "      <td>Accuracy</td>\n",
       "      <td>0.977756</td>\n",
       "    </tr>\n",
       "    <tr>\n",
       "      <th>3</th>\n",
       "      <td>RF</td>\n",
       "      <td>Accuracy</td>\n",
       "      <td>0.971954</td>\n",
       "    </tr>\n",
       "    <tr>\n",
       "      <th>4</th>\n",
       "      <td>SVC</td>\n",
       "      <td>Accuracy</td>\n",
       "      <td>0.974855</td>\n",
       "    </tr>\n",
       "    <tr>\n",
       "      <th>5</th>\n",
       "      <td>LR</td>\n",
       "      <td>Accuracy</td>\n",
       "      <td>0.957447</td>\n",
       "    </tr>\n",
       "    <tr>\n",
       "      <th>6</th>\n",
       "      <td>xgb</td>\n",
       "      <td>Accuracy</td>\n",
       "      <td>0.969052</td>\n",
       "    </tr>\n",
       "    <tr>\n",
       "      <th>7</th>\n",
       "      <td>AdaBoost</td>\n",
       "      <td>Accuracy</td>\n",
       "      <td>0.964217</td>\n",
       "    </tr>\n",
       "    <tr>\n",
       "      <th>8</th>\n",
       "      <td>GBDT</td>\n",
       "      <td>Accuracy</td>\n",
       "      <td>0.948743</td>\n",
       "    </tr>\n",
       "    <tr>\n",
       "      <th>9</th>\n",
       "      <td>BgC</td>\n",
       "      <td>Accuracy</td>\n",
       "      <td>0.954545</td>\n",
       "    </tr>\n",
       "    <tr>\n",
       "      <th>10</th>\n",
       "      <td>DT</td>\n",
       "      <td>Accuracy</td>\n",
       "      <td>0.932302</td>\n",
       "    </tr>\n",
       "    <tr>\n",
       "      <th>11</th>\n",
       "      <td>KN</td>\n",
       "      <td>Precision</td>\n",
       "      <td>1.000000</td>\n",
       "    </tr>\n",
       "    <tr>\n",
       "      <th>12</th>\n",
       "      <td>NB</td>\n",
       "      <td>Precision</td>\n",
       "      <td>1.000000</td>\n",
       "    </tr>\n",
       "    <tr>\n",
       "      <th>13</th>\n",
       "      <td>ETC</td>\n",
       "      <td>Precision</td>\n",
       "      <td>0.983193</td>\n",
       "    </tr>\n",
       "    <tr>\n",
       "      <th>14</th>\n",
       "      <td>RF</td>\n",
       "      <td>Precision</td>\n",
       "      <td>0.973913</td>\n",
       "    </tr>\n",
       "    <tr>\n",
       "      <th>15</th>\n",
       "      <td>SVC</td>\n",
       "      <td>Precision</td>\n",
       "      <td>0.966667</td>\n",
       "    </tr>\n",
       "    <tr>\n",
       "      <th>16</th>\n",
       "      <td>LR</td>\n",
       "      <td>Precision</td>\n",
       "      <td>0.951923</td>\n",
       "    </tr>\n",
       "    <tr>\n",
       "      <th>17</th>\n",
       "      <td>xgb</td>\n",
       "      <td>Precision</td>\n",
       "      <td>0.941667</td>\n",
       "    </tr>\n",
       "    <tr>\n",
       "      <th>18</th>\n",
       "      <td>AdaBoost</td>\n",
       "      <td>Precision</td>\n",
       "      <td>0.931624</td>\n",
       "    </tr>\n",
       "    <tr>\n",
       "      <th>19</th>\n",
       "      <td>GBDT</td>\n",
       "      <td>Precision</td>\n",
       "      <td>0.929293</td>\n",
       "    </tr>\n",
       "    <tr>\n",
       "      <th>20</th>\n",
       "      <td>BgC</td>\n",
       "      <td>Precision</td>\n",
       "      <td>0.852713</td>\n",
       "    </tr>\n",
       "    <tr>\n",
       "      <th>21</th>\n",
       "      <td>DT</td>\n",
       "      <td>Precision</td>\n",
       "      <td>0.833333</td>\n",
       "    </tr>\n",
       "  </tbody>\n",
       "</table>\n",
       "</div>"
      ],
      "text/plain": [
       "   Algorithm   variable     value\n",
       "0         KN   Accuracy  0.905222\n",
       "1         NB   Accuracy  0.972921\n",
       "2        ETC   Accuracy  0.977756\n",
       "3         RF   Accuracy  0.971954\n",
       "4        SVC   Accuracy  0.974855\n",
       "5         LR   Accuracy  0.957447\n",
       "6        xgb   Accuracy  0.969052\n",
       "7   AdaBoost   Accuracy  0.964217\n",
       "8       GBDT   Accuracy  0.948743\n",
       "9        BgC   Accuracy  0.954545\n",
       "10        DT   Accuracy  0.932302\n",
       "11        KN  Precision  1.000000\n",
       "12        NB  Precision  1.000000\n",
       "13       ETC  Precision  0.983193\n",
       "14        RF  Precision  0.973913\n",
       "15       SVC  Precision  0.966667\n",
       "16        LR  Precision  0.951923\n",
       "17       xgb  Precision  0.941667\n",
       "18  AdaBoost  Precision  0.931624\n",
       "19      GBDT  Precision  0.929293\n",
       "20       BgC  Precision  0.852713\n",
       "21        DT  Precision  0.833333"
      ]
     },
     "execution_count": 77,
     "metadata": {},
     "output_type": "execute_result"
    }
   ],
   "source": [
    "performance_df1"
   ]
  },
  {
   "cell_type": "code",
   "execution_count": 78,
   "id": "be204659",
   "metadata": {
    "execution": {
     "iopub.execute_input": "2022-07-20T08:47:36.511031Z",
     "iopub.status.busy": "2022-07-20T08:47:36.510037Z",
     "iopub.status.idle": "2022-07-20T08:47:36.896525Z",
     "shell.execute_reply": "2022-07-20T08:47:36.895031Z"
    },
    "papermill": {
     "duration": 0.430264,
     "end_time": "2022-07-20T08:47:36.899170",
     "exception": false,
     "start_time": "2022-07-20T08:47:36.468906",
     "status": "completed"
    },
    "tags": []
   },
   "outputs": [
    {
     "data": {
      "image/png": "[encoded data removed]",
      "text/plain": [
       "<Figure size 441.75x360 with 1 Axes>"
      ]
     },
     "metadata": {
      "needs_background": "light"
     },
     "output_type": "display_data"
    }
   ],
   "source": [
    "sns.catplot(x = 'Algorithm',y = 'value',hue = 'variable',data = performance_df1,kind ='bar',height = 5)\n",
    "plt.ylim(0.5,1.0)\n",
    "plt.xticks(rotation = 'vertical')\n",
    "plt.show()"
   ]
  },
  {
   "cell_type": "code",
   "execution_count": 79,
   "id": "e388a364",
   "metadata": {
    "execution": {
     "iopub.execute_input": "2022-07-20T08:47:36.978714Z",
     "iopub.status.busy": "2022-07-20T08:47:36.978325Z",
     "iopub.status.idle": "2022-07-20T08:47:36.984741Z",
     "shell.execute_reply": "2022-07-20T08:47:36.983901Z"
    },
    "papermill": {
     "duration": 0.048568,
     "end_time": "2022-07-20T08:47:36.986699",
     "exception": false,
     "start_time": "2022-07-20T08:47:36.938131",
     "status": "completed"
    },
    "tags": []
   },
   "outputs": [],
   "source": [
    "temp_df = pd.DataFrame({'Algorithm':clfs.keys(),'Accuracy_max_ft_3000':accuracy_scores,'Precision_max_ft_3000':precision_scores}).sort_values('Precision_max_ft_3000',ascending = False)"
   ]
  },
  {
   "cell_type": "code",
   "execution_count": 80,
   "id": "6e02660c",
   "metadata": {
    "execution": {
     "iopub.execute_input": "2022-07-20T08:47:37.067376Z",
     "iopub.status.busy": "2022-07-20T08:47:37.066589Z",
     "iopub.status.idle": "2022-07-20T08:47:37.073121Z",
     "shell.execute_reply": "2022-07-20T08:47:37.072062Z"
    },
    "papermill": {
     "duration": 0.049279,
     "end_time": "2022-07-20T08:47:37.075220",
     "exception": false,
     "start_time": "2022-07-20T08:47:37.025941",
     "status": "completed"
    },
    "tags": []
   },
   "outputs": [],
   "source": [
    "temp_df = pd.DataFrame({'Algorithm':clfs.keys(),'Accuracy_scaling':accuracy_scores,'Precision_scaling':precision_scores}).sort_values('Precision_scaling',ascending = False)"
   ]
  },
  {
   "cell_type": "code",
   "execution_count": 81,
   "id": "091a256b",
   "metadata": {
    "execution": {
     "iopub.execute_input": "2022-07-20T08:47:37.155347Z",
     "iopub.status.busy": "2022-07-20T08:47:37.154752Z",
     "iopub.status.idle": "2022-07-20T08:47:37.173931Z",
     "shell.execute_reply": "2022-07-20T08:47:37.173168Z"
    },
    "papermill": {
     "duration": 0.062047,
     "end_time": "2022-07-20T08:47:37.175982",
     "exception": false,
     "start_time": "2022-07-20T08:47:37.113935",
     "status": "completed"
    },
    "tags": []
   },
   "outputs": [
    {
     "data": {
      "text/html": [
       "<div>\n",
       "<style scoped>\n",
       "    .dataframe tbody tr th:only-of-type {\n",
       "        vertical-align: middle;\n",
       "    }\n",
       "\n",
       "    .dataframe tbody tr th {\n",
       "        vertical-align: top;\n",
       "    }\n",
       "\n",
       "    .dataframe thead th {\n",
       "        text-align: right;\n",
       "    }\n",
       "</style>\n",
       "<table border=\"1\" class=\"dataframe\">\n",
       "  <thead>\n",
       "    <tr style=\"text-align: right;\">\n",
       "      <th></th>\n",
       "      <th>Algorithm</th>\n",
       "      <th>Accuracy</th>\n",
       "      <th>Precision</th>\n",
       "      <th>Accuracy_scaling</th>\n",
       "      <th>Precision_scaling</th>\n",
       "    </tr>\n",
       "  </thead>\n",
       "  <tbody>\n",
       "    <tr>\n",
       "      <th>0</th>\n",
       "      <td>KN</td>\n",
       "      <td>0.905222</td>\n",
       "      <td>1.000000</td>\n",
       "      <td>0.905222</td>\n",
       "      <td>1.000000</td>\n",
       "    </tr>\n",
       "    <tr>\n",
       "      <th>1</th>\n",
       "      <td>NB</td>\n",
       "      <td>0.972921</td>\n",
       "      <td>1.000000</td>\n",
       "      <td>0.972921</td>\n",
       "      <td>1.000000</td>\n",
       "    </tr>\n",
       "    <tr>\n",
       "      <th>2</th>\n",
       "      <td>ETC</td>\n",
       "      <td>0.977756</td>\n",
       "      <td>0.983193</td>\n",
       "      <td>0.977756</td>\n",
       "      <td>0.983193</td>\n",
       "    </tr>\n",
       "    <tr>\n",
       "      <th>3</th>\n",
       "      <td>RF</td>\n",
       "      <td>0.971954</td>\n",
       "      <td>0.973913</td>\n",
       "      <td>0.971954</td>\n",
       "      <td>0.973913</td>\n",
       "    </tr>\n",
       "    <tr>\n",
       "      <th>4</th>\n",
       "      <td>SVC</td>\n",
       "      <td>0.974855</td>\n",
       "      <td>0.966667</td>\n",
       "      <td>0.974855</td>\n",
       "      <td>0.966667</td>\n",
       "    </tr>\n",
       "    <tr>\n",
       "      <th>5</th>\n",
       "      <td>LR</td>\n",
       "      <td>0.957447</td>\n",
       "      <td>0.951923</td>\n",
       "      <td>0.957447</td>\n",
       "      <td>0.951923</td>\n",
       "    </tr>\n",
       "    <tr>\n",
       "      <th>6</th>\n",
       "      <td>xgb</td>\n",
       "      <td>0.969052</td>\n",
       "      <td>0.941667</td>\n",
       "      <td>0.969052</td>\n",
       "      <td>0.941667</td>\n",
       "    </tr>\n",
       "    <tr>\n",
       "      <th>7</th>\n",
       "      <td>AdaBoost</td>\n",
       "      <td>0.964217</td>\n",
       "      <td>0.931624</td>\n",
       "      <td>0.964217</td>\n",
       "      <td>0.931624</td>\n",
       "    </tr>\n",
       "    <tr>\n",
       "      <th>8</th>\n",
       "      <td>GBDT</td>\n",
       "      <td>0.948743</td>\n",
       "      <td>0.929293</td>\n",
       "      <td>0.948743</td>\n",
       "      <td>0.929293</td>\n",
       "    </tr>\n",
       "    <tr>\n",
       "      <th>9</th>\n",
       "      <td>BgC</td>\n",
       "      <td>0.954545</td>\n",
       "      <td>0.852713</td>\n",
       "      <td>0.954545</td>\n",
       "      <td>0.852713</td>\n",
       "    </tr>\n",
       "    <tr>\n",
       "      <th>10</th>\n",
       "      <td>DT</td>\n",
       "      <td>0.932302</td>\n",
       "      <td>0.833333</td>\n",
       "      <td>0.932302</td>\n",
       "      <td>0.833333</td>\n",
       "    </tr>\n",
       "  </tbody>\n",
       "</table>\n",
       "</div>"
      ],
      "text/plain": [
       "   Algorithm  Accuracy  Precision  Accuracy_scaling  Precision_scaling\n",
       "0         KN  0.905222   1.000000          0.905222           1.000000\n",
       "1         NB  0.972921   1.000000          0.972921           1.000000\n",
       "2        ETC  0.977756   0.983193          0.977756           0.983193\n",
       "3         RF  0.971954   0.973913          0.971954           0.973913\n",
       "4        SVC  0.974855   0.966667          0.974855           0.966667\n",
       "5         LR  0.957447   0.951923          0.957447           0.951923\n",
       "6        xgb  0.969052   0.941667          0.969052           0.941667\n",
       "7   AdaBoost  0.964217   0.931624          0.964217           0.931624\n",
       "8       GBDT  0.948743   0.929293          0.948743           0.929293\n",
       "9        BgC  0.954545   0.852713          0.954545           0.852713\n",
       "10        DT  0.932302   0.833333          0.932302           0.833333"
      ]
     },
     "execution_count": 81,
     "metadata": {},
     "output_type": "execute_result"
    }
   ],
   "source": [
    "new_df = performance_df.merge(temp_df,on ='Algorithm')\n",
    "new_df"
   ]
  },
  {
   "cell_type": "code",
   "execution_count": 82,
   "id": "ff4aec58",
   "metadata": {
    "execution": {
     "iopub.execute_input": "2022-07-20T08:47:37.256706Z",
     "iopub.status.busy": "2022-07-20T08:47:37.256107Z",
     "iopub.status.idle": "2022-07-20T08:47:37.263415Z",
     "shell.execute_reply": "2022-07-20T08:47:37.262580Z"
    },
    "papermill": {
     "duration": 0.05024,
     "end_time": "2022-07-20T08:47:37.265512",
     "exception": false,
     "start_time": "2022-07-20T08:47:37.215272",
     "status": "completed"
    },
    "tags": []
   },
   "outputs": [],
   "source": [
    "new_df_scaled = new_df.merge(temp_df,on='Algorithm')"
   ]
  },
  {
   "cell_type": "code",
   "execution_count": 83,
   "id": "2a3d0eee",
   "metadata": {
    "execution": {
     "iopub.execute_input": "2022-07-20T08:47:37.346249Z",
     "iopub.status.busy": "2022-07-20T08:47:37.345638Z",
     "iopub.status.idle": "2022-07-20T08:47:37.351819Z",
     "shell.execute_reply": "2022-07-20T08:47:37.350760Z"
    },
    "papermill": {
     "duration": 0.049542,
     "end_time": "2022-07-20T08:47:37.354351",
     "exception": false,
     "start_time": "2022-07-20T08:47:37.304809",
     "status": "completed"
    },
    "tags": []
   },
   "outputs": [],
   "source": [
    "temp_df = pd.DataFrame({'Algorithm':clfs.keys(),'Accuracy_num_characters':accuracy_scores,'Precision_num_characters':precision_scores}).sort_values('Precision_num_characters',ascending = False)"
   ]
  },
  {
   "cell_type": "code",
   "execution_count": 84,
   "id": "ace7f05e",
   "metadata": {
    "execution": {
     "iopub.execute_input": "2022-07-20T08:47:37.435500Z",
     "iopub.status.busy": "2022-07-20T08:47:37.434788Z",
     "iopub.status.idle": "2022-07-20T08:47:37.440402Z",
     "shell.execute_reply": "2022-07-20T08:47:37.439218Z"
    },
    "papermill": {
     "duration": 0.048807,
     "end_time": "2022-07-20T08:47:37.442820",
     "exception": false,
     "start_time": "2022-07-20T08:47:37.394013",
     "status": "completed"
    },
    "tags": []
   },
   "outputs": [],
   "source": [
    "#Voting Classifier\n",
    "svc = SVC(kernel = 'sigmoid', gamma = 1.0 , probability = True)\n",
    "mnb = MultinomialNB()\n",
    "etc = ExtraTreesClassifier(n_estimators = 50,random_state = 2)\n",
    "\n",
    "from sklearn.ensemble import VotingClassifier"
   ]
  },
  {
   "cell_type": "code",
   "execution_count": 85,
   "id": "6311559b",
   "metadata": {
    "execution": {
     "iopub.execute_input": "2022-07-20T08:47:37.528191Z",
     "iopub.status.busy": "2022-07-20T08:47:37.527128Z",
     "iopub.status.idle": "2022-07-20T08:47:37.533185Z",
     "shell.execute_reply": "2022-07-20T08:47:37.532298Z"
    },
    "papermill": {
     "duration": 0.052171,
     "end_time": "2022-07-20T08:47:37.535784",
     "exception": false,
     "start_time": "2022-07-20T08:47:37.483613",
     "status": "completed"
    },
    "tags": []
   },
   "outputs": [],
   "source": [
    "voting = VotingClassifier(estimators = [('svm',svc),('nb',mnb),('et',etc)],voting = 'soft')"
   ]
  },
  {
   "cell_type": "code",
   "execution_count": 86,
   "id": "0b71b50b",
   "metadata": {
    "execution": {
     "iopub.execute_input": "2022-07-20T08:47:37.631940Z",
     "iopub.status.busy": "2022-07-20T08:47:37.631179Z",
     "iopub.status.idle": "2022-07-20T08:48:30.470706Z",
     "shell.execute_reply": "2022-07-20T08:48:30.469474Z"
    },
    "papermill": {
     "duration": 52.928919,
     "end_time": "2022-07-20T08:48:30.511947",
     "exception": false,
     "start_time": "2022-07-20T08:47:37.583028",
     "status": "completed"
    },
    "tags": []
   },
   "outputs": [
    {
     "data": {
      "text/plain": [
       "VotingClassifier(estimators=[('svm',\n",
       "                              SVC(gamma=1.0, kernel='sigmoid',\n",
       "                                  probability=True)),\n",
       "                             ('nb', MultinomialNB()),\n",
       "                             ('et',\n",
       "                              ExtraTreesClassifier(n_estimators=50,\n",
       "                                                   random_state=2))],\n",
       "                 voting='soft')"
      ]
     },
     "execution_count": 86,
     "metadata": {},
     "output_type": "execute_result"
    }
   ],
   "source": [
    "voting.fit(X_train,Y_train)"
   ]
  },
  {
   "cell_type": "code",
   "execution_count": 87,
   "id": "066c61f3",
   "metadata": {
    "execution": {
     "iopub.execute_input": "2022-07-20T08:48:30.593927Z",
     "iopub.status.busy": "2022-07-20T08:48:30.593515Z",
     "iopub.status.idle": "2022-07-20T08:48:31.572143Z",
     "shell.execute_reply": "2022-07-20T08:48:31.567972Z"
    },
    "papermill": {
     "duration": 1.02467,
     "end_time": "2022-07-20T08:48:31.577102",
     "exception": false,
     "start_time": "2022-07-20T08:48:30.552432",
     "status": "completed"
    },
    "tags": []
   },
   "outputs": [
    {
     "name": "stdout",
     "output_type": "stream",
     "text": [
      "Accuracy:- 0.9796905222437138\n",
      "Precision:- 0.975609756097561\n"
     ]
    }
   ],
   "source": [
    "Y_pred = voting.predict(X_test)\n",
    "print(\"Accuracy:-\",accuracy_score(Y_test,Y_pred))\n",
    "print(\"Precision:-\",precision_score(Y_test,Y_pred))"
   ]
  },
  {
   "cell_type": "code",
   "execution_count": 88,
   "id": "8d4d2e24",
   "metadata": {
    "execution": {
     "iopub.execute_input": "2022-07-20T08:48:31.670564Z",
     "iopub.status.busy": "2022-07-20T08:48:31.670186Z",
     "iopub.status.idle": "2022-07-20T08:48:31.675634Z",
     "shell.execute_reply": "2022-07-20T08:48:31.674425Z"
    },
    "papermill": {
     "duration": 0.049731,
     "end_time": "2022-07-20T08:48:31.678218",
     "exception": false,
     "start_time": "2022-07-20T08:48:31.628487",
     "status": "completed"
    },
    "tags": []
   },
   "outputs": [],
   "source": [
    "#Stacking\n",
    "estimators = [('svm',svc),('nb',mnb),('et',etc)]\n",
    "final_estimator = RandomForestClassifier()"
   ]
  },
  {
   "cell_type": "code",
   "execution_count": 89,
   "id": "efde36e7",
   "metadata": {
    "execution": {
     "iopub.execute_input": "2022-07-20T08:48:31.767107Z",
     "iopub.status.busy": "2022-07-20T08:48:31.766432Z",
     "iopub.status.idle": "2022-07-20T08:48:31.773588Z",
     "shell.execute_reply": "2022-07-20T08:48:31.772403Z"
    },
    "papermill": {
     "duration": 0.057621,
     "end_time": "2022-07-20T08:48:31.776095",
     "exception": false,
     "start_time": "2022-07-20T08:48:31.718474",
     "status": "completed"
    },
    "tags": []
   },
   "outputs": [],
   "source": [
    "from sklearn.ensemble import StackingClassifier"
   ]
  },
  {
   "cell_type": "code",
   "execution_count": 90,
   "id": "35449d44",
   "metadata": {
    "execution": {
     "iopub.execute_input": "2022-07-20T08:48:31.863804Z",
     "iopub.status.busy": "2022-07-20T08:48:31.862866Z",
     "iopub.status.idle": "2022-07-20T08:48:31.868357Z",
     "shell.execute_reply": "2022-07-20T08:48:31.867293Z"
    },
    "papermill": {
     "duration": 0.053574,
     "end_time": "2022-07-20T08:48:31.870486",
     "exception": false,
     "start_time": "2022-07-20T08:48:31.816912",
     "status": "completed"
    },
    "tags": []
   },
   "outputs": [],
   "source": [
    "clf = StackingClassifier(estimators=estimators, final_estimator=final_estimator)"
   ]
  },
  {
   "cell_type": "code",
   "execution_count": 91,
   "id": "f8c35a80",
   "metadata": {
    "execution": {
     "iopub.execute_input": "2022-07-20T08:48:31.960634Z",
     "iopub.status.busy": "2022-07-20T08:48:31.959743Z",
     "iopub.status.idle": "2022-07-20T08:52:36.306167Z",
     "shell.execute_reply": "2022-07-20T08:52:36.304730Z"
    },
    "papermill": {
     "duration": 244.431339,
     "end_time": "2022-07-20T08:52:36.349337",
     "exception": false,
     "start_time": "2022-07-20T08:48:31.917998",
     "status": "completed"
    },
    "tags": []
   },
   "outputs": [
    {
     "name": "stdout",
     "output_type": "stream",
     "text": [
      "Accuracy 0.9787234042553191\n",
      "Precision 0.9461538461538461\n"
     ]
    }
   ],
   "source": [
    "clf.fit(X_train,Y_train)\n",
    "Y_pred = clf.predict(X_test)\n",
    "print(\"Accuracy\",accuracy_score(Y_test,Y_pred))\n",
    "print(\"Precision\",precision_score(Y_test,Y_pred))"
   ]
  },
  {
   "cell_type": "code",
   "execution_count": 92,
   "id": "a643eacf",
   "metadata": {
    "execution": {
     "iopub.execute_input": "2022-07-20T08:52:36.432043Z",
     "iopub.status.busy": "2022-07-20T08:52:36.431281Z",
     "iopub.status.idle": "2022-07-20T08:52:36.449159Z",
     "shell.execute_reply": "2022-07-20T08:52:36.448013Z"
    },
    "papermill": {
     "duration": 0.062123,
     "end_time": "2022-07-20T08:52:36.451722",
     "exception": false,
     "start_time": "2022-07-20T08:52:36.389599",
     "status": "completed"
    },
    "tags": []
   },
   "outputs": [],
   "source": [
    "import pickle \n",
    "pickle.dump(tfidf,open('vectorizer.pkl','wb'))\n",
    "pickle.dump(mnb,open('model.pkl','wb'))"
   ]
  }
 ],
 "metadata": {
  "kernelspec": {
   "display_name": "Python 3",
   "language": "python",
   "name": "python3"
  },
  "language_info": {
   "codemirror_mode": {
    "name": "ipython",
    "version": 3
   },
   "file_extension": ".py",
   "mimetype": "text/x-python",
   "name": "python",
   "nbconvert_exporter": "python",
   "pygments_lexer": "ipython3",
   "version": "3.7.12"
  },
  "papermill": {
   "default_parameters": {},
   "duration": 473.581348,
   "end_time": "2022-07-20T08:52:37.414893",
   "environment_variables": {},
   "exception": null,
   "input_path": "__notebook__.ipynb",
   "output_path": "__notebook__.ipynb",
   "parameters": {},
   "start_time": "2022-07-20T08:44:43.833545",
   "version": "2.3.4"
  }
 },
 "nbformat": 4,
 "nbformat_minor": 5
}
